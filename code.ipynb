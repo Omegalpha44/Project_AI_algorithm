{
 "cells": [
  {
   "cell_type": "markdown",
   "metadata": {},
   "source": [
    "## Code for Ai algorithm project"
   ]
  },
  {
   "cell_type": "markdown",
   "metadata": {},
   "source": [
    "### Production optimization"
   ]
  },
  {
   "cell_type": "markdown",
   "metadata": {},
   "source": [
    "#### 1. Problem description"
   ]
  },
  {
   "cell_type": "markdown",
   "metadata": {},
   "source": [
    "- Subject of the probem : to maximize the number of biscuits produced in the same dough.\n",
    "* constraints : \n",
    "    - the roll of dough has a fixed size\n",
    "    - the roll can have defects that partially usable. Their size is variable, as well as their number and position on the roll.\n",
    "    - each biscuit is not limited in number in the roll\n",
    "    - each biscuit has a specific size, value, and a maximum number of defects it can contain\n",
    "\n",
    "* solution criteria : \n",
    "    - be at integer positions, so no half biscuit\n",
    "    - no overlapping\n",
    "    - reduce the maximum number of defect in dough as much as possible\n",
    "    - do not exceed the maximum length of the roll\n",
    "    - maximize the number of biscuits produced, as well as the value of the biscuits produced\n",
    "\n",
    "* Benchmark : \n",
    "    - length = 500 units\n",
    "    - set of defects : a, b and c\n",
    "    - set of biscuits : \n",
    "        - biscuit 0 : len = 4, value = 6, max_defect = {a: 4, b: 2, c: 3}\n",
    "        - biscuit 1 : len = 8, value = 12, max_defect = {a: 5, b: 4, c: 4}\n",
    "        - biscuit 2 : len = 2, value = 1, max_defect = {a: 1, b: 2, c: 1}\n",
    "        - biscuit 3 : len = 5, value = 8, max_defect = {a: 2, b: 3, c: 2}"
   ]
  },
  {
   "cell_type": "markdown",
   "metadata": {},
   "source": [
    "#### Solution 1. using ortools"
   ]
  },
  {
   "cell_type": "code",
   "execution_count": 63,
   "metadata": {},
   "outputs": [],
   "source": [
    "import ortools\n",
    "from ortools.sat.python import cp_model"
   ]
  },
  {
   "cell_type": "markdown",
   "metadata": {},
   "source": [
    "1. Problem description"
   ]
  },
  {
   "cell_type": "code",
   "execution_count": 64,
   "metadata": {},
   "outputs": [
    {
     "data": {
      "text/plain": [
       "<matplotlib.collections.PathCollection at 0x24174ccfe50>"
      ]
     },
     "execution_count": 64,
     "metadata": {},
     "output_type": "execute_result"
    },
    {
     "data": {
      "image/png": "[encoded data removed]",
      "text/plain": [
       "<Figure size 640x480 with 1 Axes>"
      ]
     },
     "metadata": {},
     "output_type": "display_data"
    }
   ],
   "source": [
    "# importation of the defects\n",
    "import pandas as pd\n",
    "import matplotlib.pyplot as plt\n",
    "defects = pd.read_csv(\"defects.csv\", sep = ',')\n",
    "plt.scatter(defects['x'], defects['class'])\n"
   ]
  },
  {
   "cell_type": "code",
   "execution_count": 65,
   "metadata": {},
   "outputs": [
    {
     "name": "stdout",
     "output_type": "stream",
     "text": [
      "<class 'pandas.core.frame.DataFrame'>\n",
      "Index: 500 entries, 479 to 229\n",
      "Data columns (total 2 columns):\n",
      " #   Column  Non-Null Count  Dtype  \n",
      "---  ------  --------------  -----  \n",
      " 0   x       500 non-null    float64\n",
      " 1   class   500 non-null    object \n",
      "dtypes: float64(1), object(1)\n",
      "memory usage: 11.7+ KB\n",
      "None\n",
      "                x\n",
      "count  500.000000\n",
      "mean   246.098987\n",
      "std    143.914271\n",
      "min      0.700561\n",
      "25%    123.001773\n",
      "50%    242.137840\n",
      "75%    371.495959\n",
      "max    499.403445\n",
      "class\n",
      "c    177\n",
      "a    164\n",
      "b    159\n",
      "Name: count, dtype: int64\n"
     ]
    }
   ],
   "source": [
    "defects_sorted = defects.sort_values(by='x')\n",
    "print(defects_sorted.info())\n",
    "print(defects_sorted.describe())\n",
    "print(defects_sorted[\"class\"].value_counts())\n"
   ]
  },
  {
   "cell_type": "code",
   "execution_count": 66,
   "metadata": {},
   "outputs": [
    {
     "name": "stdout",
     "output_type": "stream",
     "text": [
      "[[biscuit_no_-1_pos_0(0..1), biscuit_no_0_pos_0(0..1), biscuit_no_1_pos_0(0..1), biscuit_no_2_pos_0(0..1), biscuit_no_3_pos_0(0..1)], [biscuit_no_-1_pos_1(0..1), biscuit_no_0_pos_1(0..1), biscuit_no_1_pos_1(0..1), biscuit_no_2_pos_1(0..1), biscuit_no_3_pos_1(0..1)], [biscuit_no_-1_pos_2(0..1), biscuit_no_0_pos_2(0..1), biscuit_no_1_pos_2(0..1), biscuit_no_2_pos_2(0..1), biscuit_no_3_pos_2(0..1)], [biscuit_no_-1_pos_3(0..1), biscuit_no_0_pos_3(0..1), biscuit_no_1_pos_3(0..1), biscuit_no_2_pos_3(0..1), biscuit_no_3_pos_3(0..1)], [biscuit_no_-1_pos_4(0..1), biscuit_no_0_pos_4(0..1), biscuit_no_1_pos_4(0..1), biscuit_no_2_pos_4(0..1), biscuit_no_3_pos_4(0..1)], [biscuit_no_-1_pos_5(0..1), biscuit_no_0_pos_5(0..1), biscuit_no_1_pos_5(0..1), biscuit_no_2_pos_5(0..1), biscuit_no_3_pos_5(0..1)], [biscuit_no_-1_pos_6(0..1), biscuit_no_0_pos_6(0..1), biscuit_no_1_pos_6(0..1), biscuit_no_2_pos_6(0..1), biscuit_no_3_pos_6(0..1)], [biscuit_no_-1_pos_7(0..1), biscuit_no_0_pos_7(0..1), biscuit_no_1_pos_7(0..1), biscuit_no_2_pos_7(0..1), biscuit_no_3_pos_7(0..1)], [biscuit_no_-1_pos_8(0..1), biscuit_no_0_pos_8(0..1), biscuit_no_1_pos_8(0..1), biscuit_no_2_pos_8(0..1), biscuit_no_3_pos_8(0..1)], [biscuit_no_-1_pos_9(0..1), biscuit_no_0_pos_9(0..1), biscuit_no_1_pos_9(0..1), biscuit_no_2_pos_9(0..1), biscuit_no_3_pos_9(0..1)], [biscuit_no_-1_pos_10(0..1), biscuit_no_0_pos_10(0..1), biscuit_no_1_pos_10(0..1), biscuit_no_2_pos_10(0..1), biscuit_no_3_pos_10(0..1)], [biscuit_no_-1_pos_11(0..1), biscuit_no_0_pos_11(0..1), biscuit_no_1_pos_11(0..1), biscuit_no_2_pos_11(0..1), biscuit_no_3_pos_11(0..1)], [biscuit_no_-1_pos_12(0..1), biscuit_no_0_pos_12(0..1), biscuit_no_1_pos_12(0..1), biscuit_no_2_pos_12(0..1), biscuit_no_3_pos_12(0..1)], [biscuit_no_-1_pos_13(0..1), biscuit_no_0_pos_13(0..1), biscuit_no_1_pos_13(0..1), biscuit_no_2_pos_13(0..1), biscuit_no_3_pos_13(0..1)], [biscuit_no_-1_pos_14(0..1), biscuit_no_0_pos_14(0..1), biscuit_no_1_pos_14(0..1), biscuit_no_2_pos_14(0..1), biscuit_no_3_pos_14(0..1)], [biscuit_no_-1_pos_15(0..1), biscuit_no_0_pos_15(0..1), biscuit_no_1_pos_15(0..1), biscuit_no_2_pos_15(0..1), biscuit_no_3_pos_15(0..1)], [biscuit_no_-1_pos_16(0..1), biscuit_no_0_pos_16(0..1), biscuit_no_1_pos_16(0..1), biscuit_no_2_pos_16(0..1), biscuit_no_3_pos_16(0..1)], [biscuit_no_-1_pos_17(0..1), biscuit_no_0_pos_17(0..1), biscuit_no_1_pos_17(0..1), biscuit_no_2_pos_17(0..1), biscuit_no_3_pos_17(0..1)], [biscuit_no_-1_pos_18(0..1), biscuit_no_0_pos_18(0..1), biscuit_no_1_pos_18(0..1), biscuit_no_2_pos_18(0..1), biscuit_no_3_pos_18(0..1)], [biscuit_no_-1_pos_19(0..1), biscuit_no_0_pos_19(0..1), biscuit_no_1_pos_19(0..1), biscuit_no_2_pos_19(0..1), biscuit_no_3_pos_19(0..1)], [biscuit_no_-1_pos_20(0..1), biscuit_no_0_pos_20(0..1), biscuit_no_1_pos_20(0..1), biscuit_no_2_pos_20(0..1), biscuit_no_3_pos_20(0..1)], [biscuit_no_-1_pos_21(0..1), biscuit_no_0_pos_21(0..1), biscuit_no_1_pos_21(0..1), biscuit_no_2_pos_21(0..1), biscuit_no_3_pos_21(0..1)], [biscuit_no_-1_pos_22(0..1), biscuit_no_0_pos_22(0..1), biscuit_no_1_pos_22(0..1), biscuit_no_2_pos_22(0..1), biscuit_no_3_pos_22(0..1)], [biscuit_no_-1_pos_23(0..1), biscuit_no_0_pos_23(0..1), biscuit_no_1_pos_23(0..1), biscuit_no_2_pos_23(0..1), biscuit_no_3_pos_23(0..1)], [biscuit_no_-1_pos_24(0..1), biscuit_no_0_pos_24(0..1), biscuit_no_1_pos_24(0..1), biscuit_no_2_pos_24(0..1), biscuit_no_3_pos_24(0..1)], [biscuit_no_-1_pos_25(0..1), biscuit_no_0_pos_25(0..1), biscuit_no_1_pos_25(0..1), biscuit_no_2_pos_25(0..1), biscuit_no_3_pos_25(0..1)], [biscuit_no_-1_pos_26(0..1), biscuit_no_0_pos_26(0..1), biscuit_no_1_pos_26(0..1), biscuit_no_2_pos_26(0..1), biscuit_no_3_pos_26(0..1)], [biscuit_no_-1_pos_27(0..1), biscuit_no_0_pos_27(0..1), biscuit_no_1_pos_27(0..1), biscuit_no_2_pos_27(0..1), biscuit_no_3_pos_27(0..1)], [biscuit_no_-1_pos_28(0..1), biscuit_no_0_pos_28(0..1), biscuit_no_1_pos_28(0..1), biscuit_no_2_pos_28(0..1), biscuit_no_3_pos_28(0..1)], [biscuit_no_-1_pos_29(0..1), biscuit_no_0_pos_29(0..1), biscuit_no_1_pos_29(0..1), biscuit_no_2_pos_29(0..1), biscuit_no_3_pos_29(0..1)], [biscuit_no_-1_pos_30(0..1), biscuit_no_0_pos_30(0..1), biscuit_no_1_pos_30(0..1), biscuit_no_2_pos_30(0..1), biscuit_no_3_pos_30(0..1)], [biscuit_no_-1_pos_31(0..1), biscuit_no_0_pos_31(0..1), biscuit_no_1_pos_31(0..1), biscuit_no_2_pos_31(0..1), biscuit_no_3_pos_31(0..1)], [biscuit_no_-1_pos_32(0..1), biscuit_no_0_pos_32(0..1), biscuit_no_1_pos_32(0..1), biscuit_no_2_pos_32(0..1), biscuit_no_3_pos_32(0..1)], [biscuit_no_-1_pos_33(0..1), biscuit_no_0_pos_33(0..1), biscuit_no_1_pos_33(0..1), biscuit_no_2_pos_33(0..1), biscuit_no_3_pos_33(0..1)], [biscuit_no_-1_pos_34(0..1), biscuit_no_0_pos_34(0..1), biscuit_no_1_pos_34(0..1), biscuit_no_2_pos_34(0..1), biscuit_no_3_pos_34(0..1)], [biscuit_no_-1_pos_35(0..1), biscuit_no_0_pos_35(0..1), biscuit_no_1_pos_35(0..1), biscuit_no_2_pos_35(0..1), biscuit_no_3_pos_35(0..1)], [biscuit_no_-1_pos_36(0..1), biscuit_no_0_pos_36(0..1), biscuit_no_1_pos_36(0..1), biscuit_no_2_pos_36(0..1), biscuit_no_3_pos_36(0..1)], [biscuit_no_-1_pos_37(0..1), biscuit_no_0_pos_37(0..1), biscuit_no_1_pos_37(0..1), biscuit_no_2_pos_37(0..1), biscuit_no_3_pos_37(0..1)], [biscuit_no_-1_pos_38(0..1), biscuit_no_0_pos_38(0..1), biscuit_no_1_pos_38(0..1), biscuit_no_2_pos_38(0..1), biscuit_no_3_pos_38(0..1)], [biscuit_no_-1_pos_39(0..1), biscuit_no_0_pos_39(0..1), biscuit_no_1_pos_39(0..1), biscuit_no_2_pos_39(0..1), biscuit_no_3_pos_39(0..1)], [biscuit_no_-1_pos_40(0..1), biscuit_no_0_pos_40(0..1), biscuit_no_1_pos_40(0..1), biscuit_no_2_pos_40(0..1), biscuit_no_3_pos_40(0..1)], [biscuit_no_-1_pos_41(0..1), biscuit_no_0_pos_41(0..1), biscuit_no_1_pos_41(0..1), biscuit_no_2_pos_41(0..1), biscuit_no_3_pos_41(0..1)], [biscuit_no_-1_pos_42(0..1), biscuit_no_0_pos_42(0..1), biscuit_no_1_pos_42(0..1), biscuit_no_2_pos_42(0..1), biscuit_no_3_pos_42(0..1)], [biscuit_no_-1_pos_43(0..1), biscuit_no_0_pos_43(0..1), biscuit_no_1_pos_43(0..1), biscuit_no_2_pos_43(0..1), biscuit_no_3_pos_43(0..1)], [biscuit_no_-1_pos_44(0..1), biscuit_no_0_pos_44(0..1), biscuit_no_1_pos_44(0..1), biscuit_no_2_pos_44(0..1), biscuit_no_3_pos_44(0..1)], [biscuit_no_-1_pos_45(0..1), biscuit_no_0_pos_45(0..1), biscuit_no_1_pos_45(0..1), biscuit_no_2_pos_45(0..1), biscuit_no_3_pos_45(0..1)], [biscuit_no_-1_pos_46(0..1), biscuit_no_0_pos_46(0..1), biscuit_no_1_pos_46(0..1), biscuit_no_2_pos_46(0..1), biscuit_no_3_pos_46(0..1)], [biscuit_no_-1_pos_47(0..1), biscuit_no_0_pos_47(0..1), biscuit_no_1_pos_47(0..1), biscuit_no_2_pos_47(0..1), biscuit_no_3_pos_47(0..1)], [biscuit_no_-1_pos_48(0..1), biscuit_no_0_pos_48(0..1), biscuit_no_1_pos_48(0..1), biscuit_no_2_pos_48(0..1), biscuit_no_3_pos_48(0..1)], [biscuit_no_-1_pos_49(0..1), biscuit_no_0_pos_49(0..1), biscuit_no_1_pos_49(0..1), biscuit_no_2_pos_49(0..1), biscuit_no_3_pos_49(0..1)], [biscuit_no_-1_pos_50(0..1), biscuit_no_0_pos_50(0..1), biscuit_no_1_pos_50(0..1), biscuit_no_2_pos_50(0..1), biscuit_no_3_pos_50(0..1)], [biscuit_no_-1_pos_51(0..1), biscuit_no_0_pos_51(0..1), biscuit_no_1_pos_51(0..1), biscuit_no_2_pos_51(0..1), biscuit_no_3_pos_51(0..1)], [biscuit_no_-1_pos_52(0..1), biscuit_no_0_pos_52(0..1), biscuit_no_1_pos_52(0..1), biscuit_no_2_pos_52(0..1), biscuit_no_3_pos_52(0..1)], [biscuit_no_-1_pos_53(0..1), biscuit_no_0_pos_53(0..1), biscuit_no_1_pos_53(0..1), biscuit_no_2_pos_53(0..1), biscuit_no_3_pos_53(0..1)], [biscuit_no_-1_pos_54(0..1), biscuit_no_0_pos_54(0..1), biscuit_no_1_pos_54(0..1), biscuit_no_2_pos_54(0..1), biscuit_no_3_pos_54(0..1)], [biscuit_no_-1_pos_55(0..1), biscuit_no_0_pos_55(0..1), biscuit_no_1_pos_55(0..1), biscuit_no_2_pos_55(0..1), biscuit_no_3_pos_55(0..1)], [biscuit_no_-1_pos_56(0..1), biscuit_no_0_pos_56(0..1), biscuit_no_1_pos_56(0..1), biscuit_no_2_pos_56(0..1), biscuit_no_3_pos_56(0..1)], [biscuit_no_-1_pos_57(0..1), biscuit_no_0_pos_57(0..1), biscuit_no_1_pos_57(0..1), biscuit_no_2_pos_57(0..1), biscuit_no_3_pos_57(0..1)], [biscuit_no_-1_pos_58(0..1), biscuit_no_0_pos_58(0..1), biscuit_no_1_pos_58(0..1), biscuit_no_2_pos_58(0..1), biscuit_no_3_pos_58(0..1)], [biscuit_no_-1_pos_59(0..1), biscuit_no_0_pos_59(0..1), biscuit_no_1_pos_59(0..1), biscuit_no_2_pos_59(0..1), biscuit_no_3_pos_59(0..1)], [biscuit_no_-1_pos_60(0..1), biscuit_no_0_pos_60(0..1), biscuit_no_1_pos_60(0..1), biscuit_no_2_pos_60(0..1), biscuit_no_3_pos_60(0..1)], [biscuit_no_-1_pos_61(0..1), biscuit_no_0_pos_61(0..1), biscuit_no_1_pos_61(0..1), biscuit_no_2_pos_61(0..1), biscuit_no_3_pos_61(0..1)], [biscuit_no_-1_pos_62(0..1), biscuit_no_0_pos_62(0..1), biscuit_no_1_pos_62(0..1), biscuit_no_2_pos_62(0..1), biscuit_no_3_pos_62(0..1)], [biscuit_no_-1_pos_63(0..1), biscuit_no_0_pos_63(0..1), biscuit_no_1_pos_63(0..1), biscuit_no_2_pos_63(0..1), biscuit_no_3_pos_63(0..1)], [biscuit_no_-1_pos_64(0..1), biscuit_no_0_pos_64(0..1), biscuit_no_1_pos_64(0..1), biscuit_no_2_pos_64(0..1), biscuit_no_3_pos_64(0..1)], [biscuit_no_-1_pos_65(0..1), biscuit_no_0_pos_65(0..1), biscuit_no_1_pos_65(0..1), biscuit_no_2_pos_65(0..1), biscuit_no_3_pos_65(0..1)], [biscuit_no_-1_pos_66(0..1), biscuit_no_0_pos_66(0..1), biscuit_no_1_pos_66(0..1), biscuit_no_2_pos_66(0..1), biscuit_no_3_pos_66(0..1)], [biscuit_no_-1_pos_67(0..1), biscuit_no_0_pos_67(0..1), biscuit_no_1_pos_67(0..1), biscuit_no_2_pos_67(0..1), biscuit_no_3_pos_67(0..1)], [biscuit_no_-1_pos_68(0..1), biscuit_no_0_pos_68(0..1), biscuit_no_1_pos_68(0..1), biscuit_no_2_pos_68(0..1), biscuit_no_3_pos_68(0..1)], [biscuit_no_-1_pos_69(0..1), biscuit_no_0_pos_69(0..1), biscuit_no_1_pos_69(0..1), biscuit_no_2_pos_69(0..1), biscuit_no_3_pos_69(0..1)], [biscuit_no_-1_pos_70(0..1), biscuit_no_0_pos_70(0..1), biscuit_no_1_pos_70(0..1), biscuit_no_2_pos_70(0..1), biscuit_no_3_pos_70(0..1)], [biscuit_no_-1_pos_71(0..1), biscuit_no_0_pos_71(0..1), biscuit_no_1_pos_71(0..1), biscuit_no_2_pos_71(0..1), biscuit_no_3_pos_71(0..1)], [biscuit_no_-1_pos_72(0..1), biscuit_no_0_pos_72(0..1), biscuit_no_1_pos_72(0..1), biscuit_no_2_pos_72(0..1), biscuit_no_3_pos_72(0..1)], [biscuit_no_-1_pos_73(0..1), biscuit_no_0_pos_73(0..1), biscuit_no_1_pos_73(0..1), biscuit_no_2_pos_73(0..1), biscuit_no_3_pos_73(0..1)], [biscuit_no_-1_pos_74(0..1), biscuit_no_0_pos_74(0..1), biscuit_no_1_pos_74(0..1), biscuit_no_2_pos_74(0..1), biscuit_no_3_pos_74(0..1)], [biscuit_no_-1_pos_75(0..1), biscuit_no_0_pos_75(0..1), biscuit_no_1_pos_75(0..1), biscuit_no_2_pos_75(0..1), biscuit_no_3_pos_75(0..1)], [biscuit_no_-1_pos_76(0..1), biscuit_no_0_pos_76(0..1), biscuit_no_1_pos_76(0..1), biscuit_no_2_pos_76(0..1), biscuit_no_3_pos_76(0..1)], [biscuit_no_-1_pos_77(0..1), biscuit_no_0_pos_77(0..1), biscuit_no_1_pos_77(0..1), biscuit_no_2_pos_77(0..1), biscuit_no_3_pos_77(0..1)], [biscuit_no_-1_pos_78(0..1), biscuit_no_0_pos_78(0..1), biscuit_no_1_pos_78(0..1), biscuit_no_2_pos_78(0..1), biscuit_no_3_pos_78(0..1)], [biscuit_no_-1_pos_79(0..1), biscuit_no_0_pos_79(0..1), biscuit_no_1_pos_79(0..1), biscuit_no_2_pos_79(0..1), biscuit_no_3_pos_79(0..1)], [biscuit_no_-1_pos_80(0..1), biscuit_no_0_pos_80(0..1), biscuit_no_1_pos_80(0..1), biscuit_no_2_pos_80(0..1), biscuit_no_3_pos_80(0..1)], [biscuit_no_-1_pos_81(0..1), biscuit_no_0_pos_81(0..1), biscuit_no_1_pos_81(0..1), biscuit_no_2_pos_81(0..1), biscuit_no_3_pos_81(0..1)], [biscuit_no_-1_pos_82(0..1), biscuit_no_0_pos_82(0..1), biscuit_no_1_pos_82(0..1), biscuit_no_2_pos_82(0..1), biscuit_no_3_pos_82(0..1)], [biscuit_no_-1_pos_83(0..1), biscuit_no_0_pos_83(0..1), biscuit_no_1_pos_83(0..1), biscuit_no_2_pos_83(0..1), biscuit_no_3_pos_83(0..1)], [biscuit_no_-1_pos_84(0..1), biscuit_no_0_pos_84(0..1), biscuit_no_1_pos_84(0..1), biscuit_no_2_pos_84(0..1), biscuit_no_3_pos_84(0..1)], [biscuit_no_-1_pos_85(0..1), biscuit_no_0_pos_85(0..1), biscuit_no_1_pos_85(0..1), biscuit_no_2_pos_85(0..1), biscuit_no_3_pos_85(0..1)], [biscuit_no_-1_pos_86(0..1), biscuit_no_0_pos_86(0..1), biscuit_no_1_pos_86(0..1), biscuit_no_2_pos_86(0..1), biscuit_no_3_pos_86(0..1)], [biscuit_no_-1_pos_87(0..1), biscuit_no_0_pos_87(0..1), biscuit_no_1_pos_87(0..1), biscuit_no_2_pos_87(0..1), biscuit_no_3_pos_87(0..1)], [biscuit_no_-1_pos_88(0..1), biscuit_no_0_pos_88(0..1), biscuit_no_1_pos_88(0..1), biscuit_no_2_pos_88(0..1), biscuit_no_3_pos_88(0..1)], [biscuit_no_-1_pos_89(0..1), biscuit_no_0_pos_89(0..1), biscuit_no_1_pos_89(0..1), biscuit_no_2_pos_89(0..1), biscuit_no_3_pos_89(0..1)], [biscuit_no_-1_pos_90(0..1), biscuit_no_0_pos_90(0..1), biscuit_no_1_pos_90(0..1), biscuit_no_2_pos_90(0..1), biscuit_no_3_pos_90(0..1)], [biscuit_no_-1_pos_91(0..1), biscuit_no_0_pos_91(0..1), biscuit_no_1_pos_91(0..1), biscuit_no_2_pos_91(0..1), biscuit_no_3_pos_91(0..1)], [biscuit_no_-1_pos_92(0..1), biscuit_no_0_pos_92(0..1), biscuit_no_1_pos_92(0..1), biscuit_no_2_pos_92(0..1), biscuit_no_3_pos_92(0..1)], [biscuit_no_-1_pos_93(0..1), biscuit_no_0_pos_93(0..1), biscuit_no_1_pos_93(0..1), biscuit_no_2_pos_93(0..1), biscuit_no_3_pos_93(0..1)], [biscuit_no_-1_pos_94(0..1), biscuit_no_0_pos_94(0..1), biscuit_no_1_pos_94(0..1), biscuit_no_2_pos_94(0..1), biscuit_no_3_pos_94(0..1)], [biscuit_no_-1_pos_95(0..1), biscuit_no_0_pos_95(0..1), biscuit_no_1_pos_95(0..1), biscuit_no_2_pos_95(0..1), biscuit_no_3_pos_95(0..1)], [biscuit_no_-1_pos_96(0..1), biscuit_no_0_pos_96(0..1), biscuit_no_1_pos_96(0..1), biscuit_no_2_pos_96(0..1), biscuit_no_3_pos_96(0..1)], [biscuit_no_-1_pos_97(0..1), biscuit_no_0_pos_97(0..1), biscuit_no_1_pos_97(0..1), biscuit_no_2_pos_97(0..1), biscuit_no_3_pos_97(0..1)], [biscuit_no_-1_pos_98(0..1), biscuit_no_0_pos_98(0..1), biscuit_no_1_pos_98(0..1), biscuit_no_2_pos_98(0..1), biscuit_no_3_pos_98(0..1)], [biscuit_no_-1_pos_99(0..1), biscuit_no_0_pos_99(0..1), biscuit_no_1_pos_99(0..1), biscuit_no_2_pos_99(0..1), biscuit_no_3_pos_99(0..1)], [biscuit_no_-1_pos_100(0..1), biscuit_no_0_pos_100(0..1), biscuit_no_1_pos_100(0..1), biscuit_no_2_pos_100(0..1), biscuit_no_3_pos_100(0..1)], [biscuit_no_-1_pos_101(0..1), biscuit_no_0_pos_101(0..1), biscuit_no_1_pos_101(0..1), biscuit_no_2_pos_101(0..1), biscuit_no_3_pos_101(0..1)], [biscuit_no_-1_pos_102(0..1), biscuit_no_0_pos_102(0..1), biscuit_no_1_pos_102(0..1), biscuit_no_2_pos_102(0..1), biscuit_no_3_pos_102(0..1)], [biscuit_no_-1_pos_103(0..1), biscuit_no_0_pos_103(0..1), biscuit_no_1_pos_103(0..1), biscuit_no_2_pos_103(0..1), biscuit_no_3_pos_103(0..1)], [biscuit_no_-1_pos_104(0..1), biscuit_no_0_pos_104(0..1), biscuit_no_1_pos_104(0..1), biscuit_no_2_pos_104(0..1), biscuit_no_3_pos_104(0..1)], [biscuit_no_-1_pos_105(0..1), biscuit_no_0_pos_105(0..1), biscuit_no_1_pos_105(0..1), biscuit_no_2_pos_105(0..1), biscuit_no_3_pos_105(0..1)], [biscuit_no_-1_pos_106(0..1), biscuit_no_0_pos_106(0..1), biscuit_no_1_pos_106(0..1), biscuit_no_2_pos_106(0..1), biscuit_no_3_pos_106(0..1)], [biscuit_no_-1_pos_107(0..1), biscuit_no_0_pos_107(0..1), biscuit_no_1_pos_107(0..1), biscuit_no_2_pos_107(0..1), biscuit_no_3_pos_107(0..1)], [biscuit_no_-1_pos_108(0..1), biscuit_no_0_pos_108(0..1), biscuit_no_1_pos_108(0..1), biscuit_no_2_pos_108(0..1), biscuit_no_3_pos_108(0..1)], [biscuit_no_-1_pos_109(0..1), biscuit_no_0_pos_109(0..1), biscuit_no_1_pos_109(0..1), biscuit_no_2_pos_109(0..1), biscuit_no_3_pos_109(0..1)], [biscuit_no_-1_pos_110(0..1), biscuit_no_0_pos_110(0..1), biscuit_no_1_pos_110(0..1), biscuit_no_2_pos_110(0..1), biscuit_no_3_pos_110(0..1)], [biscuit_no_-1_pos_111(0..1), biscuit_no_0_pos_111(0..1), biscuit_no_1_pos_111(0..1), biscuit_no_2_pos_111(0..1), biscuit_no_3_pos_111(0..1)], [biscuit_no_-1_pos_112(0..1), biscuit_no_0_pos_112(0..1), biscuit_no_1_pos_112(0..1), biscuit_no_2_pos_112(0..1), biscuit_no_3_pos_112(0..1)], [biscuit_no_-1_pos_113(0..1), biscuit_no_0_pos_113(0..1), biscuit_no_1_pos_113(0..1), biscuit_no_2_pos_113(0..1), biscuit_no_3_pos_113(0..1)], [biscuit_no_-1_pos_114(0..1), biscuit_no_0_pos_114(0..1), biscuit_no_1_pos_114(0..1), biscuit_no_2_pos_114(0..1), biscuit_no_3_pos_114(0..1)], [biscuit_no_-1_pos_115(0..1), biscuit_no_0_pos_115(0..1), biscuit_no_1_pos_115(0..1), biscuit_no_2_pos_115(0..1), biscuit_no_3_pos_115(0..1)], [biscuit_no_-1_pos_116(0..1), biscuit_no_0_pos_116(0..1), biscuit_no_1_pos_116(0..1), biscuit_no_2_pos_116(0..1), biscuit_no_3_pos_116(0..1)], [biscuit_no_-1_pos_117(0..1), biscuit_no_0_pos_117(0..1), biscuit_no_1_pos_117(0..1), biscuit_no_2_pos_117(0..1), biscuit_no_3_pos_117(0..1)], [biscuit_no_-1_pos_118(0..1), biscuit_no_0_pos_118(0..1), biscuit_no_1_pos_118(0..1), biscuit_no_2_pos_118(0..1), biscuit_no_3_pos_118(0..1)], [biscuit_no_-1_pos_119(0..1), biscuit_no_0_pos_119(0..1), biscuit_no_1_pos_119(0..1), biscuit_no_2_pos_119(0..1), biscuit_no_3_pos_119(0..1)], [biscuit_no_-1_pos_120(0..1), biscuit_no_0_pos_120(0..1), biscuit_no_1_pos_120(0..1), biscuit_no_2_pos_120(0..1), biscuit_no_3_pos_120(0..1)], [biscuit_no_-1_pos_121(0..1), biscuit_no_0_pos_121(0..1), biscuit_no_1_pos_121(0..1), biscuit_no_2_pos_121(0..1), biscuit_no_3_pos_121(0..1)], [biscuit_no_-1_pos_122(0..1), biscuit_no_0_pos_122(0..1), biscuit_no_1_pos_122(0..1), biscuit_no_2_pos_122(0..1), biscuit_no_3_pos_122(0..1)], [biscuit_no_-1_pos_123(0..1), biscuit_no_0_pos_123(0..1), biscuit_no_1_pos_123(0..1), biscuit_no_2_pos_123(0..1), biscuit_no_3_pos_123(0..1)], [biscuit_no_-1_pos_124(0..1), biscuit_no_0_pos_124(0..1), biscuit_no_1_pos_124(0..1), biscuit_no_2_pos_124(0..1), biscuit_no_3_pos_124(0..1)], [biscuit_no_-1_pos_125(0..1), biscuit_no_0_pos_125(0..1), biscuit_no_1_pos_125(0..1), biscuit_no_2_pos_125(0..1), biscuit_no_3_pos_125(0..1)], [biscuit_no_-1_pos_126(0..1), biscuit_no_0_pos_126(0..1), biscuit_no_1_pos_126(0..1), biscuit_no_2_pos_126(0..1), biscuit_no_3_pos_126(0..1)], [biscuit_no_-1_pos_127(0..1), biscuit_no_0_pos_127(0..1), biscuit_no_1_pos_127(0..1), biscuit_no_2_pos_127(0..1), biscuit_no_3_pos_127(0..1)], [biscuit_no_-1_pos_128(0..1), biscuit_no_0_pos_128(0..1), biscuit_no_1_pos_128(0..1), biscuit_no_2_pos_128(0..1), biscuit_no_3_pos_128(0..1)], [biscuit_no_-1_pos_129(0..1), biscuit_no_0_pos_129(0..1), biscuit_no_1_pos_129(0..1), biscuit_no_2_pos_129(0..1), biscuit_no_3_pos_129(0..1)], [biscuit_no_-1_pos_130(0..1), biscuit_no_0_pos_130(0..1), biscuit_no_1_pos_130(0..1), biscuit_no_2_pos_130(0..1), biscuit_no_3_pos_130(0..1)], [biscuit_no_-1_pos_131(0..1), biscuit_no_0_pos_131(0..1), biscuit_no_1_pos_131(0..1), biscuit_no_2_pos_131(0..1), biscuit_no_3_pos_131(0..1)], [biscuit_no_-1_pos_132(0..1), biscuit_no_0_pos_132(0..1), biscuit_no_1_pos_132(0..1), biscuit_no_2_pos_132(0..1), biscuit_no_3_pos_132(0..1)], [biscuit_no_-1_pos_133(0..1), biscuit_no_0_pos_133(0..1), biscuit_no_1_pos_133(0..1), biscuit_no_2_pos_133(0..1), biscuit_no_3_pos_133(0..1)], [biscuit_no_-1_pos_134(0..1), biscuit_no_0_pos_134(0..1), biscuit_no_1_pos_134(0..1), biscuit_no_2_pos_134(0..1), biscuit_no_3_pos_134(0..1)], [biscuit_no_-1_pos_135(0..1), biscuit_no_0_pos_135(0..1), biscuit_no_1_pos_135(0..1), biscuit_no_2_pos_135(0..1), biscuit_no_3_pos_135(0..1)], [biscuit_no_-1_pos_136(0..1), biscuit_no_0_pos_136(0..1), biscuit_no_1_pos_136(0..1), biscuit_no_2_pos_136(0..1), biscuit_no_3_pos_136(0..1)], [biscuit_no_-1_pos_137(0..1), biscuit_no_0_pos_137(0..1), biscuit_no_1_pos_137(0..1), biscuit_no_2_pos_137(0..1), biscuit_no_3_pos_137(0..1)], [biscuit_no_-1_pos_138(0..1), biscuit_no_0_pos_138(0..1), biscuit_no_1_pos_138(0..1), biscuit_no_2_pos_138(0..1), biscuit_no_3_pos_138(0..1)], [biscuit_no_-1_pos_139(0..1), biscuit_no_0_pos_139(0..1), biscuit_no_1_pos_139(0..1), biscuit_no_2_pos_139(0..1), biscuit_no_3_pos_139(0..1)], [biscuit_no_-1_pos_140(0..1), biscuit_no_0_pos_140(0..1), biscuit_no_1_pos_140(0..1), biscuit_no_2_pos_140(0..1), biscuit_no_3_pos_140(0..1)], [biscuit_no_-1_pos_141(0..1), biscuit_no_0_pos_141(0..1), biscuit_no_1_pos_141(0..1), biscuit_no_2_pos_141(0..1), biscuit_no_3_pos_141(0..1)], [biscuit_no_-1_pos_142(0..1), biscuit_no_0_pos_142(0..1), biscuit_no_1_pos_142(0..1), biscuit_no_2_pos_142(0..1), biscuit_no_3_pos_142(0..1)], [biscuit_no_-1_pos_143(0..1), biscuit_no_0_pos_143(0..1), biscuit_no_1_pos_143(0..1), biscuit_no_2_pos_143(0..1), biscuit_no_3_pos_143(0..1)], [biscuit_no_-1_pos_144(0..1), biscuit_no_0_pos_144(0..1), biscuit_no_1_pos_144(0..1), biscuit_no_2_pos_144(0..1), biscuit_no_3_pos_144(0..1)], [biscuit_no_-1_pos_145(0..1), biscuit_no_0_pos_145(0..1), biscuit_no_1_pos_145(0..1), biscuit_no_2_pos_145(0..1), biscuit_no_3_pos_145(0..1)], [biscuit_no_-1_pos_146(0..1), biscuit_no_0_pos_146(0..1), biscuit_no_1_pos_146(0..1), biscuit_no_2_pos_146(0..1), biscuit_no_3_pos_146(0..1)], [biscuit_no_-1_pos_147(0..1), biscuit_no_0_pos_147(0..1), biscuit_no_1_pos_147(0..1), biscuit_no_2_pos_147(0..1), biscuit_no_3_pos_147(0..1)], [biscuit_no_-1_pos_148(0..1), biscuit_no_0_pos_148(0..1), biscuit_no_1_pos_148(0..1), biscuit_no_2_pos_148(0..1), biscuit_no_3_pos_148(0..1)], [biscuit_no_-1_pos_149(0..1), biscuit_no_0_pos_149(0..1), biscuit_no_1_pos_149(0..1), biscuit_no_2_pos_149(0..1), biscuit_no_3_pos_149(0..1)], [biscuit_no_-1_pos_150(0..1), biscuit_no_0_pos_150(0..1), biscuit_no_1_pos_150(0..1), biscuit_no_2_pos_150(0..1), biscuit_no_3_pos_150(0..1)], [biscuit_no_-1_pos_151(0..1), biscuit_no_0_pos_151(0..1), biscuit_no_1_pos_151(0..1), biscuit_no_2_pos_151(0..1), biscuit_no_3_pos_151(0..1)], [biscuit_no_-1_pos_152(0..1), biscuit_no_0_pos_152(0..1), biscuit_no_1_pos_152(0..1), biscuit_no_2_pos_152(0..1), biscuit_no_3_pos_152(0..1)], [biscuit_no_-1_pos_153(0..1), biscuit_no_0_pos_153(0..1), biscuit_no_1_pos_153(0..1), biscuit_no_2_pos_153(0..1), biscuit_no_3_pos_153(0..1)], [biscuit_no_-1_pos_154(0..1), biscuit_no_0_pos_154(0..1), biscuit_no_1_pos_154(0..1), biscuit_no_2_pos_154(0..1), biscuit_no_3_pos_154(0..1)], [biscuit_no_-1_pos_155(0..1), biscuit_no_0_pos_155(0..1), biscuit_no_1_pos_155(0..1), biscuit_no_2_pos_155(0..1), biscuit_no_3_pos_155(0..1)], [biscuit_no_-1_pos_156(0..1), biscuit_no_0_pos_156(0..1), biscuit_no_1_pos_156(0..1), biscuit_no_2_pos_156(0..1), biscuit_no_3_pos_156(0..1)], [biscuit_no_-1_pos_157(0..1), biscuit_no_0_pos_157(0..1), biscuit_no_1_pos_157(0..1), biscuit_no_2_pos_157(0..1), biscuit_no_3_pos_157(0..1)], [biscuit_no_-1_pos_158(0..1), biscuit_no_0_pos_158(0..1), biscuit_no_1_pos_158(0..1), biscuit_no_2_pos_158(0..1), biscuit_no_3_pos_158(0..1)], [biscuit_no_-1_pos_159(0..1), biscuit_no_0_pos_159(0..1), biscuit_no_1_pos_159(0..1), biscuit_no_2_pos_159(0..1), biscuit_no_3_pos_159(0..1)], [biscuit_no_-1_pos_160(0..1), biscuit_no_0_pos_160(0..1), biscuit_no_1_pos_160(0..1), biscuit_no_2_pos_160(0..1), biscuit_no_3_pos_160(0..1)], [biscuit_no_-1_pos_161(0..1), biscuit_no_0_pos_161(0..1), biscuit_no_1_pos_161(0..1), biscuit_no_2_pos_161(0..1), biscuit_no_3_pos_161(0..1)], [biscuit_no_-1_pos_162(0..1), biscuit_no_0_pos_162(0..1), biscuit_no_1_pos_162(0..1), biscuit_no_2_pos_162(0..1), biscuit_no_3_pos_162(0..1)], [biscuit_no_-1_pos_163(0..1), biscuit_no_0_pos_163(0..1), biscuit_no_1_pos_163(0..1), biscuit_no_2_pos_163(0..1), biscuit_no_3_pos_163(0..1)], [biscuit_no_-1_pos_164(0..1), biscuit_no_0_pos_164(0..1), biscuit_no_1_pos_164(0..1), biscuit_no_2_pos_164(0..1), biscuit_no_3_pos_164(0..1)], [biscuit_no_-1_pos_165(0..1), biscuit_no_0_pos_165(0..1), biscuit_no_1_pos_165(0..1), biscuit_no_2_pos_165(0..1), biscuit_no_3_pos_165(0..1)], [biscuit_no_-1_pos_166(0..1), biscuit_no_0_pos_166(0..1), biscuit_no_1_pos_166(0..1), biscuit_no_2_pos_166(0..1), biscuit_no_3_pos_166(0..1)], [biscuit_no_-1_pos_167(0..1), biscuit_no_0_pos_167(0..1), biscuit_no_1_pos_167(0..1), biscuit_no_2_pos_167(0..1), biscuit_no_3_pos_167(0..1)], [biscuit_no_-1_pos_168(0..1), biscuit_no_0_pos_168(0..1), biscuit_no_1_pos_168(0..1), biscuit_no_2_pos_168(0..1), biscuit_no_3_pos_168(0..1)], [biscuit_no_-1_pos_169(0..1), biscuit_no_0_pos_169(0..1), biscuit_no_1_pos_169(0..1), biscuit_no_2_pos_169(0..1), biscuit_no_3_pos_169(0..1)], [biscuit_no_-1_pos_170(0..1), biscuit_no_0_pos_170(0..1), biscuit_no_1_pos_170(0..1), biscuit_no_2_pos_170(0..1), biscuit_no_3_pos_170(0..1)], [biscuit_no_-1_pos_171(0..1), biscuit_no_0_pos_171(0..1), biscuit_no_1_pos_171(0..1), biscuit_no_2_pos_171(0..1), biscuit_no_3_pos_171(0..1)], [biscuit_no_-1_pos_172(0..1), biscuit_no_0_pos_172(0..1), biscuit_no_1_pos_172(0..1), biscuit_no_2_pos_172(0..1), biscuit_no_3_pos_172(0..1)], [biscuit_no_-1_pos_173(0..1), biscuit_no_0_pos_173(0..1), biscuit_no_1_pos_173(0..1), biscuit_no_2_pos_173(0..1), biscuit_no_3_pos_173(0..1)], [biscuit_no_-1_pos_174(0..1), biscuit_no_0_pos_174(0..1), biscuit_no_1_pos_174(0..1), biscuit_no_2_pos_174(0..1), biscuit_no_3_pos_174(0..1)], [biscuit_no_-1_pos_175(0..1), biscuit_no_0_pos_175(0..1), biscuit_no_1_pos_175(0..1), biscuit_no_2_pos_175(0..1), biscuit_no_3_pos_175(0..1)], [biscuit_no_-1_pos_176(0..1), biscuit_no_0_pos_176(0..1), biscuit_no_1_pos_176(0..1), biscuit_no_2_pos_176(0..1), biscuit_no_3_pos_176(0..1)], [biscuit_no_-1_pos_177(0..1), biscuit_no_0_pos_177(0..1), biscuit_no_1_pos_177(0..1), biscuit_no_2_pos_177(0..1), biscuit_no_3_pos_177(0..1)], [biscuit_no_-1_pos_178(0..1), biscuit_no_0_pos_178(0..1), biscuit_no_1_pos_178(0..1), biscuit_no_2_pos_178(0..1), biscuit_no_3_pos_178(0..1)], [biscuit_no_-1_pos_179(0..1), biscuit_no_0_pos_179(0..1), biscuit_no_1_pos_179(0..1), biscuit_no_2_pos_179(0..1), biscuit_no_3_pos_179(0..1)], [biscuit_no_-1_pos_180(0..1), biscuit_no_0_pos_180(0..1), biscuit_no_1_pos_180(0..1), biscuit_no_2_pos_180(0..1), biscuit_no_3_pos_180(0..1)], [biscuit_no_-1_pos_181(0..1), biscuit_no_0_pos_181(0..1), biscuit_no_1_pos_181(0..1), biscuit_no_2_pos_181(0..1), biscuit_no_3_pos_181(0..1)], [biscuit_no_-1_pos_182(0..1), biscuit_no_0_pos_182(0..1), biscuit_no_1_pos_182(0..1), biscuit_no_2_pos_182(0..1), biscuit_no_3_pos_182(0..1)], [biscuit_no_-1_pos_183(0..1), biscuit_no_0_pos_183(0..1), biscuit_no_1_pos_183(0..1), biscuit_no_2_pos_183(0..1), biscuit_no_3_pos_183(0..1)], [biscuit_no_-1_pos_184(0..1), biscuit_no_0_pos_184(0..1), biscuit_no_1_pos_184(0..1), biscuit_no_2_pos_184(0..1), biscuit_no_3_pos_184(0..1)], [biscuit_no_-1_pos_185(0..1), biscuit_no_0_pos_185(0..1), biscuit_no_1_pos_185(0..1), biscuit_no_2_pos_185(0..1), biscuit_no_3_pos_185(0..1)], [biscuit_no_-1_pos_186(0..1), biscuit_no_0_pos_186(0..1), biscuit_no_1_pos_186(0..1), biscuit_no_2_pos_186(0..1), biscuit_no_3_pos_186(0..1)], [biscuit_no_-1_pos_187(0..1), biscuit_no_0_pos_187(0..1), biscuit_no_1_pos_187(0..1), biscuit_no_2_pos_187(0..1), biscuit_no_3_pos_187(0..1)], [biscuit_no_-1_pos_188(0..1), biscuit_no_0_pos_188(0..1), biscuit_no_1_pos_188(0..1), biscuit_no_2_pos_188(0..1), biscuit_no_3_pos_188(0..1)], [biscuit_no_-1_pos_189(0..1), biscuit_no_0_pos_189(0..1), biscuit_no_1_pos_189(0..1), biscuit_no_2_pos_189(0..1), biscuit_no_3_pos_189(0..1)], [biscuit_no_-1_pos_190(0..1), biscuit_no_0_pos_190(0..1), biscuit_no_1_pos_190(0..1), biscuit_no_2_pos_190(0..1), biscuit_no_3_pos_190(0..1)], [biscuit_no_-1_pos_191(0..1), biscuit_no_0_pos_191(0..1), biscuit_no_1_pos_191(0..1), biscuit_no_2_pos_191(0..1), biscuit_no_3_pos_191(0..1)], [biscuit_no_-1_pos_192(0..1), biscuit_no_0_pos_192(0..1), biscuit_no_1_pos_192(0..1), biscuit_no_2_pos_192(0..1), biscuit_no_3_pos_192(0..1)], [biscuit_no_-1_pos_193(0..1), biscuit_no_0_pos_193(0..1), biscuit_no_1_pos_193(0..1), biscuit_no_2_pos_193(0..1), biscuit_no_3_pos_193(0..1)], [biscuit_no_-1_pos_194(0..1), biscuit_no_0_pos_194(0..1), biscuit_no_1_pos_194(0..1), biscuit_no_2_pos_194(0..1), biscuit_no_3_pos_194(0..1)], [biscuit_no_-1_pos_195(0..1), biscuit_no_0_pos_195(0..1), biscuit_no_1_pos_195(0..1), biscuit_no_2_pos_195(0..1), biscuit_no_3_pos_195(0..1)], [biscuit_no_-1_pos_196(0..1), biscuit_no_0_pos_196(0..1), biscuit_no_1_pos_196(0..1), biscuit_no_2_pos_196(0..1), biscuit_no_3_pos_196(0..1)], [biscuit_no_-1_pos_197(0..1), biscuit_no_0_pos_197(0..1), biscuit_no_1_pos_197(0..1), biscuit_no_2_pos_197(0..1), biscuit_no_3_pos_197(0..1)], [biscuit_no_-1_pos_198(0..1), biscuit_no_0_pos_198(0..1), biscuit_no_1_pos_198(0..1), biscuit_no_2_pos_198(0..1), biscuit_no_3_pos_198(0..1)], [biscuit_no_-1_pos_199(0..1), biscuit_no_0_pos_199(0..1), biscuit_no_1_pos_199(0..1), biscuit_no_2_pos_199(0..1), biscuit_no_3_pos_199(0..1)], [biscuit_no_-1_pos_200(0..1), biscuit_no_0_pos_200(0..1), biscuit_no_1_pos_200(0..1), biscuit_no_2_pos_200(0..1), biscuit_no_3_pos_200(0..1)], [biscuit_no_-1_pos_201(0..1), biscuit_no_0_pos_201(0..1), biscuit_no_1_pos_201(0..1), biscuit_no_2_pos_201(0..1), biscuit_no_3_pos_201(0..1)], [biscuit_no_-1_pos_202(0..1), biscuit_no_0_pos_202(0..1), biscuit_no_1_pos_202(0..1), biscuit_no_2_pos_202(0..1), biscuit_no_3_pos_202(0..1)], [biscuit_no_-1_pos_203(0..1), biscuit_no_0_pos_203(0..1), biscuit_no_1_pos_203(0..1), biscuit_no_2_pos_203(0..1), biscuit_no_3_pos_203(0..1)], [biscuit_no_-1_pos_204(0..1), biscuit_no_0_pos_204(0..1), biscuit_no_1_pos_204(0..1), biscuit_no_2_pos_204(0..1), biscuit_no_3_pos_204(0..1)], [biscuit_no_-1_pos_205(0..1), biscuit_no_0_pos_205(0..1), biscuit_no_1_pos_205(0..1), biscuit_no_2_pos_205(0..1), biscuit_no_3_pos_205(0..1)], [biscuit_no_-1_pos_206(0..1), biscuit_no_0_pos_206(0..1), biscuit_no_1_pos_206(0..1), biscuit_no_2_pos_206(0..1), biscuit_no_3_pos_206(0..1)], [biscuit_no_-1_pos_207(0..1), biscuit_no_0_pos_207(0..1), biscuit_no_1_pos_207(0..1), biscuit_no_2_pos_207(0..1), biscuit_no_3_pos_207(0..1)], [biscuit_no_-1_pos_208(0..1), biscuit_no_0_pos_208(0..1), biscuit_no_1_pos_208(0..1), biscuit_no_2_pos_208(0..1), biscuit_no_3_pos_208(0..1)], [biscuit_no_-1_pos_209(0..1), biscuit_no_0_pos_209(0..1), biscuit_no_1_pos_209(0..1), biscuit_no_2_pos_209(0..1), biscuit_no_3_pos_209(0..1)], [biscuit_no_-1_pos_210(0..1), biscuit_no_0_pos_210(0..1), biscuit_no_1_pos_210(0..1), biscuit_no_2_pos_210(0..1), biscuit_no_3_pos_210(0..1)], [biscuit_no_-1_pos_211(0..1), biscuit_no_0_pos_211(0..1), biscuit_no_1_pos_211(0..1), biscuit_no_2_pos_211(0..1), biscuit_no_3_pos_211(0..1)], [biscuit_no_-1_pos_212(0..1), biscuit_no_0_pos_212(0..1), biscuit_no_1_pos_212(0..1), biscuit_no_2_pos_212(0..1), biscuit_no_3_pos_212(0..1)], [biscuit_no_-1_pos_213(0..1), biscuit_no_0_pos_213(0..1), biscuit_no_1_pos_213(0..1), biscuit_no_2_pos_213(0..1), biscuit_no_3_pos_213(0..1)], [biscuit_no_-1_pos_214(0..1), biscuit_no_0_pos_214(0..1), biscuit_no_1_pos_214(0..1), biscuit_no_2_pos_214(0..1), biscuit_no_3_pos_214(0..1)], [biscuit_no_-1_pos_215(0..1), biscuit_no_0_pos_215(0..1), biscuit_no_1_pos_215(0..1), biscuit_no_2_pos_215(0..1), biscuit_no_3_pos_215(0..1)], [biscuit_no_-1_pos_216(0..1), biscuit_no_0_pos_216(0..1), biscuit_no_1_pos_216(0..1), biscuit_no_2_pos_216(0..1), biscuit_no_3_pos_216(0..1)], [biscuit_no_-1_pos_217(0..1), biscuit_no_0_pos_217(0..1), biscuit_no_1_pos_217(0..1), biscuit_no_2_pos_217(0..1), biscuit_no_3_pos_217(0..1)], [biscuit_no_-1_pos_218(0..1), biscuit_no_0_pos_218(0..1), biscuit_no_1_pos_218(0..1), biscuit_no_2_pos_218(0..1), biscuit_no_3_pos_218(0..1)], [biscuit_no_-1_pos_219(0..1), biscuit_no_0_pos_219(0..1), biscuit_no_1_pos_219(0..1), biscuit_no_2_pos_219(0..1), biscuit_no_3_pos_219(0..1)], [biscuit_no_-1_pos_220(0..1), biscuit_no_0_pos_220(0..1), biscuit_no_1_pos_220(0..1), biscuit_no_2_pos_220(0..1), biscuit_no_3_pos_220(0..1)], [biscuit_no_-1_pos_221(0..1), biscuit_no_0_pos_221(0..1), biscuit_no_1_pos_221(0..1), biscuit_no_2_pos_221(0..1), biscuit_no_3_pos_221(0..1)], [biscuit_no_-1_pos_222(0..1), biscuit_no_0_pos_222(0..1), biscuit_no_1_pos_222(0..1), biscuit_no_2_pos_222(0..1), biscuit_no_3_pos_222(0..1)], [biscuit_no_-1_pos_223(0..1), biscuit_no_0_pos_223(0..1), biscuit_no_1_pos_223(0..1), biscuit_no_2_pos_223(0..1), biscuit_no_3_pos_223(0..1)], [biscuit_no_-1_pos_224(0..1), biscuit_no_0_pos_224(0..1), biscuit_no_1_pos_224(0..1), biscuit_no_2_pos_224(0..1), biscuit_no_3_pos_224(0..1)], [biscuit_no_-1_pos_225(0..1), biscuit_no_0_pos_225(0..1), biscuit_no_1_pos_225(0..1), biscuit_no_2_pos_225(0..1), biscuit_no_3_pos_225(0..1)], [biscuit_no_-1_pos_226(0..1), biscuit_no_0_pos_226(0..1), biscuit_no_1_pos_226(0..1), biscuit_no_2_pos_226(0..1), biscuit_no_3_pos_226(0..1)], [biscuit_no_-1_pos_227(0..1), biscuit_no_0_pos_227(0..1), biscuit_no_1_pos_227(0..1), biscuit_no_2_pos_227(0..1), biscuit_no_3_pos_227(0..1)], [biscuit_no_-1_pos_228(0..1), biscuit_no_0_pos_228(0..1), biscuit_no_1_pos_228(0..1), biscuit_no_2_pos_228(0..1), biscuit_no_3_pos_228(0..1)], [biscuit_no_-1_pos_229(0..1), biscuit_no_0_pos_229(0..1), biscuit_no_1_pos_229(0..1), biscuit_no_2_pos_229(0..1), biscuit_no_3_pos_229(0..1)], [biscuit_no_-1_pos_230(0..1), biscuit_no_0_pos_230(0..1), biscuit_no_1_pos_230(0..1), biscuit_no_2_pos_230(0..1), biscuit_no_3_pos_230(0..1)], [biscuit_no_-1_pos_231(0..1), biscuit_no_0_pos_231(0..1), biscuit_no_1_pos_231(0..1), biscuit_no_2_pos_231(0..1), biscuit_no_3_pos_231(0..1)], [biscuit_no_-1_pos_232(0..1), biscuit_no_0_pos_232(0..1), biscuit_no_1_pos_232(0..1), biscuit_no_2_pos_232(0..1), biscuit_no_3_pos_232(0..1)], [biscuit_no_-1_pos_233(0..1), biscuit_no_0_pos_233(0..1), biscuit_no_1_pos_233(0..1), biscuit_no_2_pos_233(0..1), biscuit_no_3_pos_233(0..1)], [biscuit_no_-1_pos_234(0..1), biscuit_no_0_pos_234(0..1), biscuit_no_1_pos_234(0..1), biscuit_no_2_pos_234(0..1), biscuit_no_3_pos_234(0..1)], [biscuit_no_-1_pos_235(0..1), biscuit_no_0_pos_235(0..1), biscuit_no_1_pos_235(0..1), biscuit_no_2_pos_235(0..1), biscuit_no_3_pos_235(0..1)], [biscuit_no_-1_pos_236(0..1), biscuit_no_0_pos_236(0..1), biscuit_no_1_pos_236(0..1), biscuit_no_2_pos_236(0..1), biscuit_no_3_pos_236(0..1)], [biscuit_no_-1_pos_237(0..1), biscuit_no_0_pos_237(0..1), biscuit_no_1_pos_237(0..1), biscuit_no_2_pos_237(0..1), biscuit_no_3_pos_237(0..1)], [biscuit_no_-1_pos_238(0..1), biscuit_no_0_pos_238(0..1), biscuit_no_1_pos_238(0..1), biscuit_no_2_pos_238(0..1), biscuit_no_3_pos_238(0..1)], [biscuit_no_-1_pos_239(0..1), biscuit_no_0_pos_239(0..1), biscuit_no_1_pos_239(0..1), biscuit_no_2_pos_239(0..1), biscuit_no_3_pos_239(0..1)], [biscuit_no_-1_pos_240(0..1), biscuit_no_0_pos_240(0..1), biscuit_no_1_pos_240(0..1), biscuit_no_2_pos_240(0..1), biscuit_no_3_pos_240(0..1)], [biscuit_no_-1_pos_241(0..1), biscuit_no_0_pos_241(0..1), biscuit_no_1_pos_241(0..1), biscuit_no_2_pos_241(0..1), biscuit_no_3_pos_241(0..1)], [biscuit_no_-1_pos_242(0..1), biscuit_no_0_pos_242(0..1), biscuit_no_1_pos_242(0..1), biscuit_no_2_pos_242(0..1), biscuit_no_3_pos_242(0..1)], [biscuit_no_-1_pos_243(0..1), biscuit_no_0_pos_243(0..1), biscuit_no_1_pos_243(0..1), biscuit_no_2_pos_243(0..1), biscuit_no_3_pos_243(0..1)], [biscuit_no_-1_pos_244(0..1), biscuit_no_0_pos_244(0..1), biscuit_no_1_pos_244(0..1), biscuit_no_2_pos_244(0..1), biscuit_no_3_pos_244(0..1)], [biscuit_no_-1_pos_245(0..1), biscuit_no_0_pos_245(0..1), biscuit_no_1_pos_245(0..1), biscuit_no_2_pos_245(0..1), biscuit_no_3_pos_245(0..1)], [biscuit_no_-1_pos_246(0..1), biscuit_no_0_pos_246(0..1), biscuit_no_1_pos_246(0..1), biscuit_no_2_pos_246(0..1), biscuit_no_3_pos_246(0..1)], [biscuit_no_-1_pos_247(0..1), biscuit_no_0_pos_247(0..1), biscuit_no_1_pos_247(0..1), biscuit_no_2_pos_247(0..1), biscuit_no_3_pos_247(0..1)], [biscuit_no_-1_pos_248(0..1), biscuit_no_0_pos_248(0..1), biscuit_no_1_pos_248(0..1), biscuit_no_2_pos_248(0..1), biscuit_no_3_pos_248(0..1)], [biscuit_no_-1_pos_249(0..1), biscuit_no_0_pos_249(0..1), biscuit_no_1_pos_249(0..1), biscuit_no_2_pos_249(0..1), biscuit_no_3_pos_249(0..1)], [biscuit_no_-1_pos_250(0..1), biscuit_no_0_pos_250(0..1), biscuit_no_1_pos_250(0..1), biscuit_no_2_pos_250(0..1), biscuit_no_3_pos_250(0..1)], [biscuit_no_-1_pos_251(0..1), biscuit_no_0_pos_251(0..1), biscuit_no_1_pos_251(0..1), biscuit_no_2_pos_251(0..1), biscuit_no_3_pos_251(0..1)], [biscuit_no_-1_pos_252(0..1), biscuit_no_0_pos_252(0..1), biscuit_no_1_pos_252(0..1), biscuit_no_2_pos_252(0..1), biscuit_no_3_pos_252(0..1)], [biscuit_no_-1_pos_253(0..1), biscuit_no_0_pos_253(0..1), biscuit_no_1_pos_253(0..1), biscuit_no_2_pos_253(0..1), biscuit_no_3_pos_253(0..1)], [biscuit_no_-1_pos_254(0..1), biscuit_no_0_pos_254(0..1), biscuit_no_1_pos_254(0..1), biscuit_no_2_pos_254(0..1), biscuit_no_3_pos_254(0..1)], [biscuit_no_-1_pos_255(0..1), biscuit_no_0_pos_255(0..1), biscuit_no_1_pos_255(0..1), biscuit_no_2_pos_255(0..1), biscuit_no_3_pos_255(0..1)], [biscuit_no_-1_pos_256(0..1), biscuit_no_0_pos_256(0..1), biscuit_no_1_pos_256(0..1), biscuit_no_2_pos_256(0..1), biscuit_no_3_pos_256(0..1)], [biscuit_no_-1_pos_257(0..1), biscuit_no_0_pos_257(0..1), biscuit_no_1_pos_257(0..1), biscuit_no_2_pos_257(0..1), biscuit_no_3_pos_257(0..1)], [biscuit_no_-1_pos_258(0..1), biscuit_no_0_pos_258(0..1), biscuit_no_1_pos_258(0..1), biscuit_no_2_pos_258(0..1), biscuit_no_3_pos_258(0..1)], [biscuit_no_-1_pos_259(0..1), biscuit_no_0_pos_259(0..1), biscuit_no_1_pos_259(0..1), biscuit_no_2_pos_259(0..1), biscuit_no_3_pos_259(0..1)], [biscuit_no_-1_pos_260(0..1), biscuit_no_0_pos_260(0..1), biscuit_no_1_pos_260(0..1), biscuit_no_2_pos_260(0..1), biscuit_no_3_pos_260(0..1)], [biscuit_no_-1_pos_261(0..1), biscuit_no_0_pos_261(0..1), biscuit_no_1_pos_261(0..1), biscuit_no_2_pos_261(0..1), biscuit_no_3_pos_261(0..1)], [biscuit_no_-1_pos_262(0..1), biscuit_no_0_pos_262(0..1), biscuit_no_1_pos_262(0..1), biscuit_no_2_pos_262(0..1), biscuit_no_3_pos_262(0..1)], [biscuit_no_-1_pos_263(0..1), biscuit_no_0_pos_263(0..1), biscuit_no_1_pos_263(0..1), biscuit_no_2_pos_263(0..1), biscuit_no_3_pos_263(0..1)], [biscuit_no_-1_pos_264(0..1), biscuit_no_0_pos_264(0..1), biscuit_no_1_pos_264(0..1), biscuit_no_2_pos_264(0..1), biscuit_no_3_pos_264(0..1)], [biscuit_no_-1_pos_265(0..1), biscuit_no_0_pos_265(0..1), biscuit_no_1_pos_265(0..1), biscuit_no_2_pos_265(0..1), biscuit_no_3_pos_265(0..1)], [biscuit_no_-1_pos_266(0..1), biscuit_no_0_pos_266(0..1), biscuit_no_1_pos_266(0..1), biscuit_no_2_pos_266(0..1), biscuit_no_3_pos_266(0..1)], [biscuit_no_-1_pos_267(0..1), biscuit_no_0_pos_267(0..1), biscuit_no_1_pos_267(0..1), biscuit_no_2_pos_267(0..1), biscuit_no_3_pos_267(0..1)], [biscuit_no_-1_pos_268(0..1), biscuit_no_0_pos_268(0..1), biscuit_no_1_pos_268(0..1), biscuit_no_2_pos_268(0..1), biscuit_no_3_pos_268(0..1)], [biscuit_no_-1_pos_269(0..1), biscuit_no_0_pos_269(0..1), biscuit_no_1_pos_269(0..1), biscuit_no_2_pos_269(0..1), biscuit_no_3_pos_269(0..1)], [biscuit_no_-1_pos_270(0..1), biscuit_no_0_pos_270(0..1), biscuit_no_1_pos_270(0..1), biscuit_no_2_pos_270(0..1), biscuit_no_3_pos_270(0..1)], [biscuit_no_-1_pos_271(0..1), biscuit_no_0_pos_271(0..1), biscuit_no_1_pos_271(0..1), biscuit_no_2_pos_271(0..1), biscuit_no_3_pos_271(0..1)], [biscuit_no_-1_pos_272(0..1), biscuit_no_0_pos_272(0..1), biscuit_no_1_pos_272(0..1), biscuit_no_2_pos_272(0..1), biscuit_no_3_pos_272(0..1)], [biscuit_no_-1_pos_273(0..1), biscuit_no_0_pos_273(0..1), biscuit_no_1_pos_273(0..1), biscuit_no_2_pos_273(0..1), biscuit_no_3_pos_273(0..1)], [biscuit_no_-1_pos_274(0..1), biscuit_no_0_pos_274(0..1), biscuit_no_1_pos_274(0..1), biscuit_no_2_pos_274(0..1), biscuit_no_3_pos_274(0..1)], [biscuit_no_-1_pos_275(0..1), biscuit_no_0_pos_275(0..1), biscuit_no_1_pos_275(0..1), biscuit_no_2_pos_275(0..1), biscuit_no_3_pos_275(0..1)], [biscuit_no_-1_pos_276(0..1), biscuit_no_0_pos_276(0..1), biscuit_no_1_pos_276(0..1), biscuit_no_2_pos_276(0..1), biscuit_no_3_pos_276(0..1)], [biscuit_no_-1_pos_277(0..1), biscuit_no_0_pos_277(0..1), biscuit_no_1_pos_277(0..1), biscuit_no_2_pos_277(0..1), biscuit_no_3_pos_277(0..1)], [biscuit_no_-1_pos_278(0..1), biscuit_no_0_pos_278(0..1), biscuit_no_1_pos_278(0..1), biscuit_no_2_pos_278(0..1), biscuit_no_3_pos_278(0..1)], [biscuit_no_-1_pos_279(0..1), biscuit_no_0_pos_279(0..1), biscuit_no_1_pos_279(0..1), biscuit_no_2_pos_279(0..1), biscuit_no_3_pos_279(0..1)], [biscuit_no_-1_pos_280(0..1), biscuit_no_0_pos_280(0..1), biscuit_no_1_pos_280(0..1), biscuit_no_2_pos_280(0..1), biscuit_no_3_pos_280(0..1)], [biscuit_no_-1_pos_281(0..1), biscuit_no_0_pos_281(0..1), biscuit_no_1_pos_281(0..1), biscuit_no_2_pos_281(0..1), biscuit_no_3_pos_281(0..1)], [biscuit_no_-1_pos_282(0..1), biscuit_no_0_pos_282(0..1), biscuit_no_1_pos_282(0..1), biscuit_no_2_pos_282(0..1), biscuit_no_3_pos_282(0..1)], [biscuit_no_-1_pos_283(0..1), biscuit_no_0_pos_283(0..1), biscuit_no_1_pos_283(0..1), biscuit_no_2_pos_283(0..1), biscuit_no_3_pos_283(0..1)], [biscuit_no_-1_pos_284(0..1), biscuit_no_0_pos_284(0..1), biscuit_no_1_pos_284(0..1), biscuit_no_2_pos_284(0..1), biscuit_no_3_pos_284(0..1)], [biscuit_no_-1_pos_285(0..1), biscuit_no_0_pos_285(0..1), biscuit_no_1_pos_285(0..1), biscuit_no_2_pos_285(0..1), biscuit_no_3_pos_285(0..1)], [biscuit_no_-1_pos_286(0..1), biscuit_no_0_pos_286(0..1), biscuit_no_1_pos_286(0..1), biscuit_no_2_pos_286(0..1), biscuit_no_3_pos_286(0..1)], [biscuit_no_-1_pos_287(0..1), biscuit_no_0_pos_287(0..1), biscuit_no_1_pos_287(0..1), biscuit_no_2_pos_287(0..1), biscuit_no_3_pos_287(0..1)], [biscuit_no_-1_pos_288(0..1), biscuit_no_0_pos_288(0..1), biscuit_no_1_pos_288(0..1), biscuit_no_2_pos_288(0..1), biscuit_no_3_pos_288(0..1)], [biscuit_no_-1_pos_289(0..1), biscuit_no_0_pos_289(0..1), biscuit_no_1_pos_289(0..1), biscuit_no_2_pos_289(0..1), biscuit_no_3_pos_289(0..1)], [biscuit_no_-1_pos_290(0..1), biscuit_no_0_pos_290(0..1), biscuit_no_1_pos_290(0..1), biscuit_no_2_pos_290(0..1), biscuit_no_3_pos_290(0..1)], [biscuit_no_-1_pos_291(0..1), biscuit_no_0_pos_291(0..1), biscuit_no_1_pos_291(0..1), biscuit_no_2_pos_291(0..1), biscuit_no_3_pos_291(0..1)], [biscuit_no_-1_pos_292(0..1), biscuit_no_0_pos_292(0..1), biscuit_no_1_pos_292(0..1), biscuit_no_2_pos_292(0..1), biscuit_no_3_pos_292(0..1)], [biscuit_no_-1_pos_293(0..1), biscuit_no_0_pos_293(0..1), biscuit_no_1_pos_293(0..1), biscuit_no_2_pos_293(0..1), biscuit_no_3_pos_293(0..1)], [biscuit_no_-1_pos_294(0..1), biscuit_no_0_pos_294(0..1), biscuit_no_1_pos_294(0..1), biscuit_no_2_pos_294(0..1), biscuit_no_3_pos_294(0..1)], [biscuit_no_-1_pos_295(0..1), biscuit_no_0_pos_295(0..1), biscuit_no_1_pos_295(0..1), biscuit_no_2_pos_295(0..1), biscuit_no_3_pos_295(0..1)], [biscuit_no_-1_pos_296(0..1), biscuit_no_0_pos_296(0..1), biscuit_no_1_pos_296(0..1), biscuit_no_2_pos_296(0..1), biscuit_no_3_pos_296(0..1)], [biscuit_no_-1_pos_297(0..1), biscuit_no_0_pos_297(0..1), biscuit_no_1_pos_297(0..1), biscuit_no_2_pos_297(0..1), biscuit_no_3_pos_297(0..1)], [biscuit_no_-1_pos_298(0..1), biscuit_no_0_pos_298(0..1), biscuit_no_1_pos_298(0..1), biscuit_no_2_pos_298(0..1), biscuit_no_3_pos_298(0..1)], [biscuit_no_-1_pos_299(0..1), biscuit_no_0_pos_299(0..1), biscuit_no_1_pos_299(0..1), biscuit_no_2_pos_299(0..1), biscuit_no_3_pos_299(0..1)], [biscuit_no_-1_pos_300(0..1), biscuit_no_0_pos_300(0..1), biscuit_no_1_pos_300(0..1), biscuit_no_2_pos_300(0..1), biscuit_no_3_pos_300(0..1)], [biscuit_no_-1_pos_301(0..1), biscuit_no_0_pos_301(0..1), biscuit_no_1_pos_301(0..1), biscuit_no_2_pos_301(0..1), biscuit_no_3_pos_301(0..1)], [biscuit_no_-1_pos_302(0..1), biscuit_no_0_pos_302(0..1), biscuit_no_1_pos_302(0..1), biscuit_no_2_pos_302(0..1), biscuit_no_3_pos_302(0..1)], [biscuit_no_-1_pos_303(0..1), biscuit_no_0_pos_303(0..1), biscuit_no_1_pos_303(0..1), biscuit_no_2_pos_303(0..1), biscuit_no_3_pos_303(0..1)], [biscuit_no_-1_pos_304(0..1), biscuit_no_0_pos_304(0..1), biscuit_no_1_pos_304(0..1), biscuit_no_2_pos_304(0..1), biscuit_no_3_pos_304(0..1)], [biscuit_no_-1_pos_305(0..1), biscuit_no_0_pos_305(0..1), biscuit_no_1_pos_305(0..1), biscuit_no_2_pos_305(0..1), biscuit_no_3_pos_305(0..1)], [biscuit_no_-1_pos_306(0..1), biscuit_no_0_pos_306(0..1), biscuit_no_1_pos_306(0..1), biscuit_no_2_pos_306(0..1), biscuit_no_3_pos_306(0..1)], [biscuit_no_-1_pos_307(0..1), biscuit_no_0_pos_307(0..1), biscuit_no_1_pos_307(0..1), biscuit_no_2_pos_307(0..1), biscuit_no_3_pos_307(0..1)], [biscuit_no_-1_pos_308(0..1), biscuit_no_0_pos_308(0..1), biscuit_no_1_pos_308(0..1), biscuit_no_2_pos_308(0..1), biscuit_no_3_pos_308(0..1)], [biscuit_no_-1_pos_309(0..1), biscuit_no_0_pos_309(0..1), biscuit_no_1_pos_309(0..1), biscuit_no_2_pos_309(0..1), biscuit_no_3_pos_309(0..1)], [biscuit_no_-1_pos_310(0..1), biscuit_no_0_pos_310(0..1), biscuit_no_1_pos_310(0..1), biscuit_no_2_pos_310(0..1), biscuit_no_3_pos_310(0..1)], [biscuit_no_-1_pos_311(0..1), biscuit_no_0_pos_311(0..1), biscuit_no_1_pos_311(0..1), biscuit_no_2_pos_311(0..1), biscuit_no_3_pos_311(0..1)], [biscuit_no_-1_pos_312(0..1), biscuit_no_0_pos_312(0..1), biscuit_no_1_pos_312(0..1), biscuit_no_2_pos_312(0..1), biscuit_no_3_pos_312(0..1)], [biscuit_no_-1_pos_313(0..1), biscuit_no_0_pos_313(0..1), biscuit_no_1_pos_313(0..1), biscuit_no_2_pos_313(0..1), biscuit_no_3_pos_313(0..1)], [biscuit_no_-1_pos_314(0..1), biscuit_no_0_pos_314(0..1), biscuit_no_1_pos_314(0..1), biscuit_no_2_pos_314(0..1), biscuit_no_3_pos_314(0..1)], [biscuit_no_-1_pos_315(0..1), biscuit_no_0_pos_315(0..1), biscuit_no_1_pos_315(0..1), biscuit_no_2_pos_315(0..1), biscuit_no_3_pos_315(0..1)], [biscuit_no_-1_pos_316(0..1), biscuit_no_0_pos_316(0..1), biscuit_no_1_pos_316(0..1), biscuit_no_2_pos_316(0..1), biscuit_no_3_pos_316(0..1)], [biscuit_no_-1_pos_317(0..1), biscuit_no_0_pos_317(0..1), biscuit_no_1_pos_317(0..1), biscuit_no_2_pos_317(0..1), biscuit_no_3_pos_317(0..1)], [biscuit_no_-1_pos_318(0..1), biscuit_no_0_pos_318(0..1), biscuit_no_1_pos_318(0..1), biscuit_no_2_pos_318(0..1), biscuit_no_3_pos_318(0..1)], [biscuit_no_-1_pos_319(0..1), biscuit_no_0_pos_319(0..1), biscuit_no_1_pos_319(0..1), biscuit_no_2_pos_319(0..1), biscuit_no_3_pos_319(0..1)], [biscuit_no_-1_pos_320(0..1), biscuit_no_0_pos_320(0..1), biscuit_no_1_pos_320(0..1), biscuit_no_2_pos_320(0..1), biscuit_no_3_pos_320(0..1)], [biscuit_no_-1_pos_321(0..1), biscuit_no_0_pos_321(0..1), biscuit_no_1_pos_321(0..1), biscuit_no_2_pos_321(0..1), biscuit_no_3_pos_321(0..1)], [biscuit_no_-1_pos_322(0..1), biscuit_no_0_pos_322(0..1), biscuit_no_1_pos_322(0..1), biscuit_no_2_pos_322(0..1), biscuit_no_3_pos_322(0..1)], [biscuit_no_-1_pos_323(0..1), biscuit_no_0_pos_323(0..1), biscuit_no_1_pos_323(0..1), biscuit_no_2_pos_323(0..1), biscuit_no_3_pos_323(0..1)], [biscuit_no_-1_pos_324(0..1), biscuit_no_0_pos_324(0..1), biscuit_no_1_pos_324(0..1), biscuit_no_2_pos_324(0..1), biscuit_no_3_pos_324(0..1)], [biscuit_no_-1_pos_325(0..1), biscuit_no_0_pos_325(0..1), biscuit_no_1_pos_325(0..1), biscuit_no_2_pos_325(0..1), biscuit_no_3_pos_325(0..1)], [biscuit_no_-1_pos_326(0..1), biscuit_no_0_pos_326(0..1), biscuit_no_1_pos_326(0..1), biscuit_no_2_pos_326(0..1), biscuit_no_3_pos_326(0..1)], [biscuit_no_-1_pos_327(0..1), biscuit_no_0_pos_327(0..1), biscuit_no_1_pos_327(0..1), biscuit_no_2_pos_327(0..1), biscuit_no_3_pos_327(0..1)], [biscuit_no_-1_pos_328(0..1), biscuit_no_0_pos_328(0..1), biscuit_no_1_pos_328(0..1), biscuit_no_2_pos_328(0..1), biscuit_no_3_pos_328(0..1)], [biscuit_no_-1_pos_329(0..1), biscuit_no_0_pos_329(0..1), biscuit_no_1_pos_329(0..1), biscuit_no_2_pos_329(0..1), biscuit_no_3_pos_329(0..1)], [biscuit_no_-1_pos_330(0..1), biscuit_no_0_pos_330(0..1), biscuit_no_1_pos_330(0..1), biscuit_no_2_pos_330(0..1), biscuit_no_3_pos_330(0..1)], [biscuit_no_-1_pos_331(0..1), biscuit_no_0_pos_331(0..1), biscuit_no_1_pos_331(0..1), biscuit_no_2_pos_331(0..1), biscuit_no_3_pos_331(0..1)], [biscuit_no_-1_pos_332(0..1), biscuit_no_0_pos_332(0..1), biscuit_no_1_pos_332(0..1), biscuit_no_2_pos_332(0..1), biscuit_no_3_pos_332(0..1)], [biscuit_no_-1_pos_333(0..1), biscuit_no_0_pos_333(0..1), biscuit_no_1_pos_333(0..1), biscuit_no_2_pos_333(0..1), biscuit_no_3_pos_333(0..1)], [biscuit_no_-1_pos_334(0..1), biscuit_no_0_pos_334(0..1), biscuit_no_1_pos_334(0..1), biscuit_no_2_pos_334(0..1), biscuit_no_3_pos_334(0..1)], [biscuit_no_-1_pos_335(0..1), biscuit_no_0_pos_335(0..1), biscuit_no_1_pos_335(0..1), biscuit_no_2_pos_335(0..1), biscuit_no_3_pos_335(0..1)], [biscuit_no_-1_pos_336(0..1), biscuit_no_0_pos_336(0..1), biscuit_no_1_pos_336(0..1), biscuit_no_2_pos_336(0..1), biscuit_no_3_pos_336(0..1)], [biscuit_no_-1_pos_337(0..1), biscuit_no_0_pos_337(0..1), biscuit_no_1_pos_337(0..1), biscuit_no_2_pos_337(0..1), biscuit_no_3_pos_337(0..1)], [biscuit_no_-1_pos_338(0..1), biscuit_no_0_pos_338(0..1), biscuit_no_1_pos_338(0..1), biscuit_no_2_pos_338(0..1), biscuit_no_3_pos_338(0..1)], [biscuit_no_-1_pos_339(0..1), biscuit_no_0_pos_339(0..1), biscuit_no_1_pos_339(0..1), biscuit_no_2_pos_339(0..1), biscuit_no_3_pos_339(0..1)], [biscuit_no_-1_pos_340(0..1), biscuit_no_0_pos_340(0..1), biscuit_no_1_pos_340(0..1), biscuit_no_2_pos_340(0..1), biscuit_no_3_pos_340(0..1)], [biscuit_no_-1_pos_341(0..1), biscuit_no_0_pos_341(0..1), biscuit_no_1_pos_341(0..1), biscuit_no_2_pos_341(0..1), biscuit_no_3_pos_341(0..1)], [biscuit_no_-1_pos_342(0..1), biscuit_no_0_pos_342(0..1), biscuit_no_1_pos_342(0..1), biscuit_no_2_pos_342(0..1), biscuit_no_3_pos_342(0..1)], [biscuit_no_-1_pos_343(0..1), biscuit_no_0_pos_343(0..1), biscuit_no_1_pos_343(0..1), biscuit_no_2_pos_343(0..1), biscuit_no_3_pos_343(0..1)], [biscuit_no_-1_pos_344(0..1), biscuit_no_0_pos_344(0..1), biscuit_no_1_pos_344(0..1), biscuit_no_2_pos_344(0..1), biscuit_no_3_pos_344(0..1)], [biscuit_no_-1_pos_345(0..1), biscuit_no_0_pos_345(0..1), biscuit_no_1_pos_345(0..1), biscuit_no_2_pos_345(0..1), biscuit_no_3_pos_345(0..1)], [biscuit_no_-1_pos_346(0..1), biscuit_no_0_pos_346(0..1), biscuit_no_1_pos_346(0..1), biscuit_no_2_pos_346(0..1), biscuit_no_3_pos_346(0..1)], [biscuit_no_-1_pos_347(0..1), biscuit_no_0_pos_347(0..1), biscuit_no_1_pos_347(0..1), biscuit_no_2_pos_347(0..1), biscuit_no_3_pos_347(0..1)], [biscuit_no_-1_pos_348(0..1), biscuit_no_0_pos_348(0..1), biscuit_no_1_pos_348(0..1), biscuit_no_2_pos_348(0..1), biscuit_no_3_pos_348(0..1)], [biscuit_no_-1_pos_349(0..1), biscuit_no_0_pos_349(0..1), biscuit_no_1_pos_349(0..1), biscuit_no_2_pos_349(0..1), biscuit_no_3_pos_349(0..1)], [biscuit_no_-1_pos_350(0..1), biscuit_no_0_pos_350(0..1), biscuit_no_1_pos_350(0..1), biscuit_no_2_pos_350(0..1), biscuit_no_3_pos_350(0..1)], [biscuit_no_-1_pos_351(0..1), biscuit_no_0_pos_351(0..1), biscuit_no_1_pos_351(0..1), biscuit_no_2_pos_351(0..1), biscuit_no_3_pos_351(0..1)], [biscuit_no_-1_pos_352(0..1), biscuit_no_0_pos_352(0..1), biscuit_no_1_pos_352(0..1), biscuit_no_2_pos_352(0..1), biscuit_no_3_pos_352(0..1)], [biscuit_no_-1_pos_353(0..1), biscuit_no_0_pos_353(0..1), biscuit_no_1_pos_353(0..1), biscuit_no_2_pos_353(0..1), biscuit_no_3_pos_353(0..1)], [biscuit_no_-1_pos_354(0..1), biscuit_no_0_pos_354(0..1), biscuit_no_1_pos_354(0..1), biscuit_no_2_pos_354(0..1), biscuit_no_3_pos_354(0..1)], [biscuit_no_-1_pos_355(0..1), biscuit_no_0_pos_355(0..1), biscuit_no_1_pos_355(0..1), biscuit_no_2_pos_355(0..1), biscuit_no_3_pos_355(0..1)], [biscuit_no_-1_pos_356(0..1), biscuit_no_0_pos_356(0..1), biscuit_no_1_pos_356(0..1), biscuit_no_2_pos_356(0..1), biscuit_no_3_pos_356(0..1)], [biscuit_no_-1_pos_357(0..1), biscuit_no_0_pos_357(0..1), biscuit_no_1_pos_357(0..1), biscuit_no_2_pos_357(0..1), biscuit_no_3_pos_357(0..1)], [biscuit_no_-1_pos_358(0..1), biscuit_no_0_pos_358(0..1), biscuit_no_1_pos_358(0..1), biscuit_no_2_pos_358(0..1), biscuit_no_3_pos_358(0..1)], [biscuit_no_-1_pos_359(0..1), biscuit_no_0_pos_359(0..1), biscuit_no_1_pos_359(0..1), biscuit_no_2_pos_359(0..1), biscuit_no_3_pos_359(0..1)], [biscuit_no_-1_pos_360(0..1), biscuit_no_0_pos_360(0..1), biscuit_no_1_pos_360(0..1), biscuit_no_2_pos_360(0..1), biscuit_no_3_pos_360(0..1)], [biscuit_no_-1_pos_361(0..1), biscuit_no_0_pos_361(0..1), biscuit_no_1_pos_361(0..1), biscuit_no_2_pos_361(0..1), biscuit_no_3_pos_361(0..1)], [biscuit_no_-1_pos_362(0..1), biscuit_no_0_pos_362(0..1), biscuit_no_1_pos_362(0..1), biscuit_no_2_pos_362(0..1), biscuit_no_3_pos_362(0..1)], [biscuit_no_-1_pos_363(0..1), biscuit_no_0_pos_363(0..1), biscuit_no_1_pos_363(0..1), biscuit_no_2_pos_363(0..1), biscuit_no_3_pos_363(0..1)], [biscuit_no_-1_pos_364(0..1), biscuit_no_0_pos_364(0..1), biscuit_no_1_pos_364(0..1), biscuit_no_2_pos_364(0..1), biscuit_no_3_pos_364(0..1)], [biscuit_no_-1_pos_365(0..1), biscuit_no_0_pos_365(0..1), biscuit_no_1_pos_365(0..1), biscuit_no_2_pos_365(0..1), biscuit_no_3_pos_365(0..1)], [biscuit_no_-1_pos_366(0..1), biscuit_no_0_pos_366(0..1), biscuit_no_1_pos_366(0..1), biscuit_no_2_pos_366(0..1), biscuit_no_3_pos_366(0..1)], [biscuit_no_-1_pos_367(0..1), biscuit_no_0_pos_367(0..1), biscuit_no_1_pos_367(0..1), biscuit_no_2_pos_367(0..1), biscuit_no_3_pos_367(0..1)], [biscuit_no_-1_pos_368(0..1), biscuit_no_0_pos_368(0..1), biscuit_no_1_pos_368(0..1), biscuit_no_2_pos_368(0..1), biscuit_no_3_pos_368(0..1)], [biscuit_no_-1_pos_369(0..1), biscuit_no_0_pos_369(0..1), biscuit_no_1_pos_369(0..1), biscuit_no_2_pos_369(0..1), biscuit_no_3_pos_369(0..1)], [biscuit_no_-1_pos_370(0..1), biscuit_no_0_pos_370(0..1), biscuit_no_1_pos_370(0..1), biscuit_no_2_pos_370(0..1), biscuit_no_3_pos_370(0..1)], [biscuit_no_-1_pos_371(0..1), biscuit_no_0_pos_371(0..1), biscuit_no_1_pos_371(0..1), biscuit_no_2_pos_371(0..1), biscuit_no_3_pos_371(0..1)], [biscuit_no_-1_pos_372(0..1), biscuit_no_0_pos_372(0..1), biscuit_no_1_pos_372(0..1), biscuit_no_2_pos_372(0..1), biscuit_no_3_pos_372(0..1)], [biscuit_no_-1_pos_373(0..1), biscuit_no_0_pos_373(0..1), biscuit_no_1_pos_373(0..1), biscuit_no_2_pos_373(0..1), biscuit_no_3_pos_373(0..1)], [biscuit_no_-1_pos_374(0..1), biscuit_no_0_pos_374(0..1), biscuit_no_1_pos_374(0..1), biscuit_no_2_pos_374(0..1), biscuit_no_3_pos_374(0..1)], [biscuit_no_-1_pos_375(0..1), biscuit_no_0_pos_375(0..1), biscuit_no_1_pos_375(0..1), biscuit_no_2_pos_375(0..1), biscuit_no_3_pos_375(0..1)], [biscuit_no_-1_pos_376(0..1), biscuit_no_0_pos_376(0..1), biscuit_no_1_pos_376(0..1), biscuit_no_2_pos_376(0..1), biscuit_no_3_pos_376(0..1)], [biscuit_no_-1_pos_377(0..1), biscuit_no_0_pos_377(0..1), biscuit_no_1_pos_377(0..1), biscuit_no_2_pos_377(0..1), biscuit_no_3_pos_377(0..1)], [biscuit_no_-1_pos_378(0..1), biscuit_no_0_pos_378(0..1), biscuit_no_1_pos_378(0..1), biscuit_no_2_pos_378(0..1), biscuit_no_3_pos_378(0..1)], [biscuit_no_-1_pos_379(0..1), biscuit_no_0_pos_379(0..1), biscuit_no_1_pos_379(0..1), biscuit_no_2_pos_379(0..1), biscuit_no_3_pos_379(0..1)], [biscuit_no_-1_pos_380(0..1), biscuit_no_0_pos_380(0..1), biscuit_no_1_pos_380(0..1), biscuit_no_2_pos_380(0..1), biscuit_no_3_pos_380(0..1)], [biscuit_no_-1_pos_381(0..1), biscuit_no_0_pos_381(0..1), biscuit_no_1_pos_381(0..1), biscuit_no_2_pos_381(0..1), biscuit_no_3_pos_381(0..1)], [biscuit_no_-1_pos_382(0..1), biscuit_no_0_pos_382(0..1), biscuit_no_1_pos_382(0..1), biscuit_no_2_pos_382(0..1), biscuit_no_3_pos_382(0..1)], [biscuit_no_-1_pos_383(0..1), biscuit_no_0_pos_383(0..1), biscuit_no_1_pos_383(0..1), biscuit_no_2_pos_383(0..1), biscuit_no_3_pos_383(0..1)], [biscuit_no_-1_pos_384(0..1), biscuit_no_0_pos_384(0..1), biscuit_no_1_pos_384(0..1), biscuit_no_2_pos_384(0..1), biscuit_no_3_pos_384(0..1)], [biscuit_no_-1_pos_385(0..1), biscuit_no_0_pos_385(0..1), biscuit_no_1_pos_385(0..1), biscuit_no_2_pos_385(0..1), biscuit_no_3_pos_385(0..1)], [biscuit_no_-1_pos_386(0..1), biscuit_no_0_pos_386(0..1), biscuit_no_1_pos_386(0..1), biscuit_no_2_pos_386(0..1), biscuit_no_3_pos_386(0..1)], [biscuit_no_-1_pos_387(0..1), biscuit_no_0_pos_387(0..1), biscuit_no_1_pos_387(0..1), biscuit_no_2_pos_387(0..1), biscuit_no_3_pos_387(0..1)], [biscuit_no_-1_pos_388(0..1), biscuit_no_0_pos_388(0..1), biscuit_no_1_pos_388(0..1), biscuit_no_2_pos_388(0..1), biscuit_no_3_pos_388(0..1)], [biscuit_no_-1_pos_389(0..1), biscuit_no_0_pos_389(0..1), biscuit_no_1_pos_389(0..1), biscuit_no_2_pos_389(0..1), biscuit_no_3_pos_389(0..1)], [biscuit_no_-1_pos_390(0..1), biscuit_no_0_pos_390(0..1), biscuit_no_1_pos_390(0..1), biscuit_no_2_pos_390(0..1), biscuit_no_3_pos_390(0..1)], [biscuit_no_-1_pos_391(0..1), biscuit_no_0_pos_391(0..1), biscuit_no_1_pos_391(0..1), biscuit_no_2_pos_391(0..1), biscuit_no_3_pos_391(0..1)], [biscuit_no_-1_pos_392(0..1), biscuit_no_0_pos_392(0..1), biscuit_no_1_pos_392(0..1), biscuit_no_2_pos_392(0..1), biscuit_no_3_pos_392(0..1)], [biscuit_no_-1_pos_393(0..1), biscuit_no_0_pos_393(0..1), biscuit_no_1_pos_393(0..1), biscuit_no_2_pos_393(0..1), biscuit_no_3_pos_393(0..1)], [biscuit_no_-1_pos_394(0..1), biscuit_no_0_pos_394(0..1), biscuit_no_1_pos_394(0..1), biscuit_no_2_pos_394(0..1), biscuit_no_3_pos_394(0..1)], [biscuit_no_-1_pos_395(0..1), biscuit_no_0_pos_395(0..1), biscuit_no_1_pos_395(0..1), biscuit_no_2_pos_395(0..1), biscuit_no_3_pos_395(0..1)], [biscuit_no_-1_pos_396(0..1), biscuit_no_0_pos_396(0..1), biscuit_no_1_pos_396(0..1), biscuit_no_2_pos_396(0..1), biscuit_no_3_pos_396(0..1)], [biscuit_no_-1_pos_397(0..1), biscuit_no_0_pos_397(0..1), biscuit_no_1_pos_397(0..1), biscuit_no_2_pos_397(0..1), biscuit_no_3_pos_397(0..1)], [biscuit_no_-1_pos_398(0..1), biscuit_no_0_pos_398(0..1), biscuit_no_1_pos_398(0..1), biscuit_no_2_pos_398(0..1), biscuit_no_3_pos_398(0..1)], [biscuit_no_-1_pos_399(0..1), biscuit_no_0_pos_399(0..1), biscuit_no_1_pos_399(0..1), biscuit_no_2_pos_399(0..1), biscuit_no_3_pos_399(0..1)], [biscuit_no_-1_pos_400(0..1), biscuit_no_0_pos_400(0..1), biscuit_no_1_pos_400(0..1), biscuit_no_2_pos_400(0..1), biscuit_no_3_pos_400(0..1)], [biscuit_no_-1_pos_401(0..1), biscuit_no_0_pos_401(0..1), biscuit_no_1_pos_401(0..1), biscuit_no_2_pos_401(0..1), biscuit_no_3_pos_401(0..1)], [biscuit_no_-1_pos_402(0..1), biscuit_no_0_pos_402(0..1), biscuit_no_1_pos_402(0..1), biscuit_no_2_pos_402(0..1), biscuit_no_3_pos_402(0..1)], [biscuit_no_-1_pos_403(0..1), biscuit_no_0_pos_403(0..1), biscuit_no_1_pos_403(0..1), biscuit_no_2_pos_403(0..1), biscuit_no_3_pos_403(0..1)], [biscuit_no_-1_pos_404(0..1), biscuit_no_0_pos_404(0..1), biscuit_no_1_pos_404(0..1), biscuit_no_2_pos_404(0..1), biscuit_no_3_pos_404(0..1)], [biscuit_no_-1_pos_405(0..1), biscuit_no_0_pos_405(0..1), biscuit_no_1_pos_405(0..1), biscuit_no_2_pos_405(0..1), biscuit_no_3_pos_405(0..1)], [biscuit_no_-1_pos_406(0..1), biscuit_no_0_pos_406(0..1), biscuit_no_1_pos_406(0..1), biscuit_no_2_pos_406(0..1), biscuit_no_3_pos_406(0..1)], [biscuit_no_-1_pos_407(0..1), biscuit_no_0_pos_407(0..1), biscuit_no_1_pos_407(0..1), biscuit_no_2_pos_407(0..1), biscuit_no_3_pos_407(0..1)], [biscuit_no_-1_pos_408(0..1), biscuit_no_0_pos_408(0..1), biscuit_no_1_pos_408(0..1), biscuit_no_2_pos_408(0..1), biscuit_no_3_pos_408(0..1)], [biscuit_no_-1_pos_409(0..1), biscuit_no_0_pos_409(0..1), biscuit_no_1_pos_409(0..1), biscuit_no_2_pos_409(0..1), biscuit_no_3_pos_409(0..1)], [biscuit_no_-1_pos_410(0..1), biscuit_no_0_pos_410(0..1), biscuit_no_1_pos_410(0..1), biscuit_no_2_pos_410(0..1), biscuit_no_3_pos_410(0..1)], [biscuit_no_-1_pos_411(0..1), biscuit_no_0_pos_411(0..1), biscuit_no_1_pos_411(0..1), biscuit_no_2_pos_411(0..1), biscuit_no_3_pos_411(0..1)], [biscuit_no_-1_pos_412(0..1), biscuit_no_0_pos_412(0..1), biscuit_no_1_pos_412(0..1), biscuit_no_2_pos_412(0..1), biscuit_no_3_pos_412(0..1)], [biscuit_no_-1_pos_413(0..1), biscuit_no_0_pos_413(0..1), biscuit_no_1_pos_413(0..1), biscuit_no_2_pos_413(0..1), biscuit_no_3_pos_413(0..1)], [biscuit_no_-1_pos_414(0..1), biscuit_no_0_pos_414(0..1), biscuit_no_1_pos_414(0..1), biscuit_no_2_pos_414(0..1), biscuit_no_3_pos_414(0..1)], [biscuit_no_-1_pos_415(0..1), biscuit_no_0_pos_415(0..1), biscuit_no_1_pos_415(0..1), biscuit_no_2_pos_415(0..1), biscuit_no_3_pos_415(0..1)], [biscuit_no_-1_pos_416(0..1), biscuit_no_0_pos_416(0..1), biscuit_no_1_pos_416(0..1), biscuit_no_2_pos_416(0..1), biscuit_no_3_pos_416(0..1)], [biscuit_no_-1_pos_417(0..1), biscuit_no_0_pos_417(0..1), biscuit_no_1_pos_417(0..1), biscuit_no_2_pos_417(0..1), biscuit_no_3_pos_417(0..1)], [biscuit_no_-1_pos_418(0..1), biscuit_no_0_pos_418(0..1), biscuit_no_1_pos_418(0..1), biscuit_no_2_pos_418(0..1), biscuit_no_3_pos_418(0..1)], [biscuit_no_-1_pos_419(0..1), biscuit_no_0_pos_419(0..1), biscuit_no_1_pos_419(0..1), biscuit_no_2_pos_419(0..1), biscuit_no_3_pos_419(0..1)], [biscuit_no_-1_pos_420(0..1), biscuit_no_0_pos_420(0..1), biscuit_no_1_pos_420(0..1), biscuit_no_2_pos_420(0..1), biscuit_no_3_pos_420(0..1)], [biscuit_no_-1_pos_421(0..1), biscuit_no_0_pos_421(0..1), biscuit_no_1_pos_421(0..1), biscuit_no_2_pos_421(0..1), biscuit_no_3_pos_421(0..1)], [biscuit_no_-1_pos_422(0..1), biscuit_no_0_pos_422(0..1), biscuit_no_1_pos_422(0..1), biscuit_no_2_pos_422(0..1), biscuit_no_3_pos_422(0..1)], [biscuit_no_-1_pos_423(0..1), biscuit_no_0_pos_423(0..1), biscuit_no_1_pos_423(0..1), biscuit_no_2_pos_423(0..1), biscuit_no_3_pos_423(0..1)], [biscuit_no_-1_pos_424(0..1), biscuit_no_0_pos_424(0..1), biscuit_no_1_pos_424(0..1), biscuit_no_2_pos_424(0..1), biscuit_no_3_pos_424(0..1)], [biscuit_no_-1_pos_425(0..1), biscuit_no_0_pos_425(0..1), biscuit_no_1_pos_425(0..1), biscuit_no_2_pos_425(0..1), biscuit_no_3_pos_425(0..1)], [biscuit_no_-1_pos_426(0..1), biscuit_no_0_pos_426(0..1), biscuit_no_1_pos_426(0..1), biscuit_no_2_pos_426(0..1), biscuit_no_3_pos_426(0..1)], [biscuit_no_-1_pos_427(0..1), biscuit_no_0_pos_427(0..1), biscuit_no_1_pos_427(0..1), biscuit_no_2_pos_427(0..1), biscuit_no_3_pos_427(0..1)], [biscuit_no_-1_pos_428(0..1), biscuit_no_0_pos_428(0..1), biscuit_no_1_pos_428(0..1), biscuit_no_2_pos_428(0..1), biscuit_no_3_pos_428(0..1)], [biscuit_no_-1_pos_429(0..1), biscuit_no_0_pos_429(0..1), biscuit_no_1_pos_429(0..1), biscuit_no_2_pos_429(0..1), biscuit_no_3_pos_429(0..1)], [biscuit_no_-1_pos_430(0..1), biscuit_no_0_pos_430(0..1), biscuit_no_1_pos_430(0..1), biscuit_no_2_pos_430(0..1), biscuit_no_3_pos_430(0..1)], [biscuit_no_-1_pos_431(0..1), biscuit_no_0_pos_431(0..1), biscuit_no_1_pos_431(0..1), biscuit_no_2_pos_431(0..1), biscuit_no_3_pos_431(0..1)], [biscuit_no_-1_pos_432(0..1), biscuit_no_0_pos_432(0..1), biscuit_no_1_pos_432(0..1), biscuit_no_2_pos_432(0..1), biscuit_no_3_pos_432(0..1)], [biscuit_no_-1_pos_433(0..1), biscuit_no_0_pos_433(0..1), biscuit_no_1_pos_433(0..1), biscuit_no_2_pos_433(0..1), biscuit_no_3_pos_433(0..1)], [biscuit_no_-1_pos_434(0..1), biscuit_no_0_pos_434(0..1), biscuit_no_1_pos_434(0..1), biscuit_no_2_pos_434(0..1), biscuit_no_3_pos_434(0..1)], [biscuit_no_-1_pos_435(0..1), biscuit_no_0_pos_435(0..1), biscuit_no_1_pos_435(0..1), biscuit_no_2_pos_435(0..1), biscuit_no_3_pos_435(0..1)], [biscuit_no_-1_pos_436(0..1), biscuit_no_0_pos_436(0..1), biscuit_no_1_pos_436(0..1), biscuit_no_2_pos_436(0..1), biscuit_no_3_pos_436(0..1)], [biscuit_no_-1_pos_437(0..1), biscuit_no_0_pos_437(0..1), biscuit_no_1_pos_437(0..1), biscuit_no_2_pos_437(0..1), biscuit_no_3_pos_437(0..1)], [biscuit_no_-1_pos_438(0..1), biscuit_no_0_pos_438(0..1), biscuit_no_1_pos_438(0..1), biscuit_no_2_pos_438(0..1), biscuit_no_3_pos_438(0..1)], [biscuit_no_-1_pos_439(0..1), biscuit_no_0_pos_439(0..1), biscuit_no_1_pos_439(0..1), biscuit_no_2_pos_439(0..1), biscuit_no_3_pos_439(0..1)], [biscuit_no_-1_pos_440(0..1), biscuit_no_0_pos_440(0..1), biscuit_no_1_pos_440(0..1), biscuit_no_2_pos_440(0..1), biscuit_no_3_pos_440(0..1)], [biscuit_no_-1_pos_441(0..1), biscuit_no_0_pos_441(0..1), biscuit_no_1_pos_441(0..1), biscuit_no_2_pos_441(0..1), biscuit_no_3_pos_441(0..1)], [biscuit_no_-1_pos_442(0..1), biscuit_no_0_pos_442(0..1), biscuit_no_1_pos_442(0..1), biscuit_no_2_pos_442(0..1), biscuit_no_3_pos_442(0..1)], [biscuit_no_-1_pos_443(0..1), biscuit_no_0_pos_443(0..1), biscuit_no_1_pos_443(0..1), biscuit_no_2_pos_443(0..1), biscuit_no_3_pos_443(0..1)], [biscuit_no_-1_pos_444(0..1), biscuit_no_0_pos_444(0..1), biscuit_no_1_pos_444(0..1), biscuit_no_2_pos_444(0..1), biscuit_no_3_pos_444(0..1)], [biscuit_no_-1_pos_445(0..1), biscuit_no_0_pos_445(0..1), biscuit_no_1_pos_445(0..1), biscuit_no_2_pos_445(0..1), biscuit_no_3_pos_445(0..1)], [biscuit_no_-1_pos_446(0..1), biscuit_no_0_pos_446(0..1), biscuit_no_1_pos_446(0..1), biscuit_no_2_pos_446(0..1), biscuit_no_3_pos_446(0..1)], [biscuit_no_-1_pos_447(0..1), biscuit_no_0_pos_447(0..1), biscuit_no_1_pos_447(0..1), biscuit_no_2_pos_447(0..1), biscuit_no_3_pos_447(0..1)], [biscuit_no_-1_pos_448(0..1), biscuit_no_0_pos_448(0..1), biscuit_no_1_pos_448(0..1), biscuit_no_2_pos_448(0..1), biscuit_no_3_pos_448(0..1)], [biscuit_no_-1_pos_449(0..1), biscuit_no_0_pos_449(0..1), biscuit_no_1_pos_449(0..1), biscuit_no_2_pos_449(0..1), biscuit_no_3_pos_449(0..1)], [biscuit_no_-1_pos_450(0..1), biscuit_no_0_pos_450(0..1), biscuit_no_1_pos_450(0..1), biscuit_no_2_pos_450(0..1), biscuit_no_3_pos_450(0..1)], [biscuit_no_-1_pos_451(0..1), biscuit_no_0_pos_451(0..1), biscuit_no_1_pos_451(0..1), biscuit_no_2_pos_451(0..1), biscuit_no_3_pos_451(0..1)], [biscuit_no_-1_pos_452(0..1), biscuit_no_0_pos_452(0..1), biscuit_no_1_pos_452(0..1), biscuit_no_2_pos_452(0..1), biscuit_no_3_pos_452(0..1)], [biscuit_no_-1_pos_453(0..1), biscuit_no_0_pos_453(0..1), biscuit_no_1_pos_453(0..1), biscuit_no_2_pos_453(0..1), biscuit_no_3_pos_453(0..1)], [biscuit_no_-1_pos_454(0..1), biscuit_no_0_pos_454(0..1), biscuit_no_1_pos_454(0..1), biscuit_no_2_pos_454(0..1), biscuit_no_3_pos_454(0..1)], [biscuit_no_-1_pos_455(0..1), biscuit_no_0_pos_455(0..1), biscuit_no_1_pos_455(0..1), biscuit_no_2_pos_455(0..1), biscuit_no_3_pos_455(0..1)], [biscuit_no_-1_pos_456(0..1), biscuit_no_0_pos_456(0..1), biscuit_no_1_pos_456(0..1), biscuit_no_2_pos_456(0..1), biscuit_no_3_pos_456(0..1)], [biscuit_no_-1_pos_457(0..1), biscuit_no_0_pos_457(0..1), biscuit_no_1_pos_457(0..1), biscuit_no_2_pos_457(0..1), biscuit_no_3_pos_457(0..1)], [biscuit_no_-1_pos_458(0..1), biscuit_no_0_pos_458(0..1), biscuit_no_1_pos_458(0..1), biscuit_no_2_pos_458(0..1), biscuit_no_3_pos_458(0..1)], [biscuit_no_-1_pos_459(0..1), biscuit_no_0_pos_459(0..1), biscuit_no_1_pos_459(0..1), biscuit_no_2_pos_459(0..1), biscuit_no_3_pos_459(0..1)], [biscuit_no_-1_pos_460(0..1), biscuit_no_0_pos_460(0..1), biscuit_no_1_pos_460(0..1), biscuit_no_2_pos_460(0..1), biscuit_no_3_pos_460(0..1)], [biscuit_no_-1_pos_461(0..1), biscuit_no_0_pos_461(0..1), biscuit_no_1_pos_461(0..1), biscuit_no_2_pos_461(0..1), biscuit_no_3_pos_461(0..1)], [biscuit_no_-1_pos_462(0..1), biscuit_no_0_pos_462(0..1), biscuit_no_1_pos_462(0..1), biscuit_no_2_pos_462(0..1), biscuit_no_3_pos_462(0..1)], [biscuit_no_-1_pos_463(0..1), biscuit_no_0_pos_463(0..1), biscuit_no_1_pos_463(0..1), biscuit_no_2_pos_463(0..1), biscuit_no_3_pos_463(0..1)], [biscuit_no_-1_pos_464(0..1), biscuit_no_0_pos_464(0..1), biscuit_no_1_pos_464(0..1), biscuit_no_2_pos_464(0..1), biscuit_no_3_pos_464(0..1)], [biscuit_no_-1_pos_465(0..1), biscuit_no_0_pos_465(0..1), biscuit_no_1_pos_465(0..1), biscuit_no_2_pos_465(0..1), biscuit_no_3_pos_465(0..1)], [biscuit_no_-1_pos_466(0..1), biscuit_no_0_pos_466(0..1), biscuit_no_1_pos_466(0..1), biscuit_no_2_pos_466(0..1), biscuit_no_3_pos_466(0..1)], [biscuit_no_-1_pos_467(0..1), biscuit_no_0_pos_467(0..1), biscuit_no_1_pos_467(0..1), biscuit_no_2_pos_467(0..1), biscuit_no_3_pos_467(0..1)], [biscuit_no_-1_pos_468(0..1), biscuit_no_0_pos_468(0..1), biscuit_no_1_pos_468(0..1), biscuit_no_2_pos_468(0..1), biscuit_no_3_pos_468(0..1)], [biscuit_no_-1_pos_469(0..1), biscuit_no_0_pos_469(0..1), biscuit_no_1_pos_469(0..1), biscuit_no_2_pos_469(0..1), biscuit_no_3_pos_469(0..1)], [biscuit_no_-1_pos_470(0..1), biscuit_no_0_pos_470(0..1), biscuit_no_1_pos_470(0..1), biscuit_no_2_pos_470(0..1), biscuit_no_3_pos_470(0..1)], [biscuit_no_-1_pos_471(0..1), biscuit_no_0_pos_471(0..1), biscuit_no_1_pos_471(0..1), biscuit_no_2_pos_471(0..1), biscuit_no_3_pos_471(0..1)], [biscuit_no_-1_pos_472(0..1), biscuit_no_0_pos_472(0..1), biscuit_no_1_pos_472(0..1), biscuit_no_2_pos_472(0..1), biscuit_no_3_pos_472(0..1)], [biscuit_no_-1_pos_473(0..1), biscuit_no_0_pos_473(0..1), biscuit_no_1_pos_473(0..1), biscuit_no_2_pos_473(0..1), biscuit_no_3_pos_473(0..1)], [biscuit_no_-1_pos_474(0..1), biscuit_no_0_pos_474(0..1), biscuit_no_1_pos_474(0..1), biscuit_no_2_pos_474(0..1), biscuit_no_3_pos_474(0..1)], [biscuit_no_-1_pos_475(0..1), biscuit_no_0_pos_475(0..1), biscuit_no_1_pos_475(0..1), biscuit_no_2_pos_475(0..1), biscuit_no_3_pos_475(0..1)], [biscuit_no_-1_pos_476(0..1), biscuit_no_0_pos_476(0..1), biscuit_no_1_pos_476(0..1), biscuit_no_2_pos_476(0..1), biscuit_no_3_pos_476(0..1)], [biscuit_no_-1_pos_477(0..1), biscuit_no_0_pos_477(0..1), biscuit_no_1_pos_477(0..1), biscuit_no_2_pos_477(0..1), biscuit_no_3_pos_477(0..1)], [biscuit_no_-1_pos_478(0..1), biscuit_no_0_pos_478(0..1), biscuit_no_1_pos_478(0..1), biscuit_no_2_pos_478(0..1), biscuit_no_3_pos_478(0..1)], [biscuit_no_-1_pos_479(0..1), biscuit_no_0_pos_479(0..1), biscuit_no_1_pos_479(0..1), biscuit_no_2_pos_479(0..1), biscuit_no_3_pos_479(0..1)], [biscuit_no_-1_pos_480(0..1), biscuit_no_0_pos_480(0..1), biscuit_no_1_pos_480(0..1), biscuit_no_2_pos_480(0..1), biscuit_no_3_pos_480(0..1)], [biscuit_no_-1_pos_481(0..1), biscuit_no_0_pos_481(0..1), biscuit_no_1_pos_481(0..1), biscuit_no_2_pos_481(0..1), biscuit_no_3_pos_481(0..1)], [biscuit_no_-1_pos_482(0..1), biscuit_no_0_pos_482(0..1), biscuit_no_1_pos_482(0..1), biscuit_no_2_pos_482(0..1), biscuit_no_3_pos_482(0..1)], [biscuit_no_-1_pos_483(0..1), biscuit_no_0_pos_483(0..1), biscuit_no_1_pos_483(0..1), biscuit_no_2_pos_483(0..1), biscuit_no_3_pos_483(0..1)], [biscuit_no_-1_pos_484(0..1), biscuit_no_0_pos_484(0..1), biscuit_no_1_pos_484(0..1), biscuit_no_2_pos_484(0..1), biscuit_no_3_pos_484(0..1)], [biscuit_no_-1_pos_485(0..1), biscuit_no_0_pos_485(0..1), biscuit_no_1_pos_485(0..1), biscuit_no_2_pos_485(0..1), biscuit_no_3_pos_485(0..1)], [biscuit_no_-1_pos_486(0..1), biscuit_no_0_pos_486(0..1), biscuit_no_1_pos_486(0..1), biscuit_no_2_pos_486(0..1), biscuit_no_3_pos_486(0..1)], [biscuit_no_-1_pos_487(0..1), biscuit_no_0_pos_487(0..1), biscuit_no_1_pos_487(0..1), biscuit_no_2_pos_487(0..1), biscuit_no_3_pos_487(0..1)], [biscuit_no_-1_pos_488(0..1), biscuit_no_0_pos_488(0..1), biscuit_no_1_pos_488(0..1), biscuit_no_2_pos_488(0..1), biscuit_no_3_pos_488(0..1)], [biscuit_no_-1_pos_489(0..1), biscuit_no_0_pos_489(0..1), biscuit_no_1_pos_489(0..1), biscuit_no_2_pos_489(0..1), biscuit_no_3_pos_489(0..1)], [biscuit_no_-1_pos_490(0..1), biscuit_no_0_pos_490(0..1), biscuit_no_1_pos_490(0..1), biscuit_no_2_pos_490(0..1), biscuit_no_3_pos_490(0..1)], [biscuit_no_-1_pos_491(0..1), biscuit_no_0_pos_491(0..1), biscuit_no_1_pos_491(0..1), biscuit_no_2_pos_491(0..1), biscuit_no_3_pos_491(0..1)], [biscuit_no_-1_pos_492(0..1), biscuit_no_0_pos_492(0..1), biscuit_no_1_pos_492(0..1), biscuit_no_2_pos_492(0..1), biscuit_no_3_pos_492(0..1)], [biscuit_no_-1_pos_493(0..1), biscuit_no_0_pos_493(0..1), biscuit_no_1_pos_493(0..1), biscuit_no_2_pos_493(0..1), biscuit_no_3_pos_493(0..1)], [biscuit_no_-1_pos_494(0..1), biscuit_no_0_pos_494(0..1), biscuit_no_1_pos_494(0..1), biscuit_no_2_pos_494(0..1), biscuit_no_3_pos_494(0..1)], [biscuit_no_-1_pos_495(0..1), biscuit_no_0_pos_495(0..1), biscuit_no_1_pos_495(0..1), biscuit_no_2_pos_495(0..1), biscuit_no_3_pos_495(0..1)], [biscuit_no_-1_pos_496(0..1), biscuit_no_0_pos_496(0..1), biscuit_no_1_pos_496(0..1), biscuit_no_2_pos_496(0..1), biscuit_no_3_pos_496(0..1)], [biscuit_no_-1_pos_497(0..1), biscuit_no_0_pos_497(0..1), biscuit_no_1_pos_497(0..1), biscuit_no_2_pos_497(0..1), biscuit_no_3_pos_497(0..1)], [biscuit_no_-1_pos_498(0..1), biscuit_no_0_pos_498(0..1), biscuit_no_1_pos_498(0..1), biscuit_no_2_pos_498(0..1), biscuit_no_3_pos_498(0..1)], [biscuit_no_-1_pos_499(0..1), biscuit_no_0_pos_499(0..1), biscuit_no_1_pos_499(0..1), biscuit_no_2_pos_499(0..1), biscuit_no_3_pos_499(0..1)]]\n"
     ]
    }
   ],
   "source": [
    "# we define the problem and its variables\n",
    "problem = cp_model.CpModel()\n",
    "\n",
    "# we define the variables\n",
    "# -1 : no biscuit, 0 to 3 : biscuit of type 0 to 3\n",
    "environnment  = [[problem.NewBoolVar(f\"biscuit_no_{i}_pos_{j}\")for i in range(-1,4)] for j in range(500)]\n",
    "print(environnment)\n",
    "# we define the constraints\n",
    "\n",
    "# constraint 1 : the total length of the biscuit must be lower than 500 units\n",
    "# maximum distance from the end\n",
    "# biscuit 1 : 3\n",
    "# biscuit 2 : 7\n",
    "# biscuit 3 : 1\n",
    "# biscuit 4 : 4\n",
    "for i in range(497,500):\n",
    "    problem.Add(environnment[i][1] == 0)\n",
    "for i in range(492,500):\n",
    "    problem.Add(environnment[i][2] == 0)\n",
    "for i in range(498,500):\n",
    "    problem.Add(environnment[i][3] == 0)\n",
    "for i in range(495,500):\n",
    "    problem.Add(environnment[i][4] == 0)\n",
    "\n",
    "# constraint 2 : no biscuit should overlapp in the dough\n",
    "for i in range(500):\n",
    "   problem.Add(sum(environnment[i]) <= 1)\n",
    "\n",
    "# constraint 3 : the biscuit criteria must be respected\n",
    "for i in range(500):\n",
    "    for j in range(1,4):\n",
    "        if i+j < 500:  # Add this condition to prevent index out of range\n",
    "            problem.Add(environnment[i+j][0] == 1).OnlyEnforceIf(environnment[i][1])\n",
    "for i in range(500):\n",
    "    for j in range(1,8):\n",
    "        if i+j < 500:  # Add this condition to prevent index out of range\n",
    "            problem.Add(environnment[i+j][0] == 1).OnlyEnforceIf(environnment[i][2])\n",
    "for i in range(500):\n",
    "    for j in range(1,2):\n",
    "        if i+j < 500:  # Add this condition to prevent index out of range\n",
    "            problem.Add(environnment[i+j][0] == 1).OnlyEnforceIf(environnment[i][3])\n",
    "for i in range(500):\n",
    "    for j in range(1,5):\n",
    "        if i+j < 500:  # Add this condition to prevent index out of range\n",
    "            problem.Add(environnment[i+j][0] == 1).OnlyEnforceIf(environnment[i][4])\n",
    "\n",
    "    \n"
   ]
  },
  {
   "cell_type": "code",
   "execution_count": 67,
   "metadata": {},
   "outputs": [],
   "source": [
    "import math\n",
    "\n",
    "# constraint 5 : the sum of defect should not be higher than what is defined in the problem\n",
    "def count_defects(env, biscuit_type, defect_type, a=0, b = 500):\n",
    "    \"\"\"Error understanding the subject : for explanation purpose, this code allows to count the number of defect of a certain type for a certain biscuit type\"\"\"\n",
    "    counter =0\n",
    "    biscuit_type += 1\n",
    "    for defect in defects[defects[\"class\"] == defect_type].iterrows():\n",
    "        x = defect[1][\"x\"]\n",
    "        x_min = math.floor(x)\n",
    "        x_max = math.ceil(x) if x<499 else 499\n",
    "        overlap = 0\n",
    "        if biscuit_type == 1:\n",
    "            overlap = 2\n",
    "        if biscuit_type == 2:\n",
    "            overlap = 6\n",
    "        if biscuit_type == 3:\n",
    "            overlap = 0\n",
    "        if biscuit_type == 4:\n",
    "            overlap = 3\n",
    "        for i in range(x_min-overlap, x_min):\n",
    "            if i >= 0 and i < 500 and i>=a and i<=b:\n",
    "                counter += env[i][biscuit_type]\n",
    "            \n",
    "    return counter \n",
    "\n",
    "def discrete_count_defects(defect_type, min = 0, max = 500):\n",
    "    \"\"\"send back the number of defect contained in the interval [min, max]\"\"\"\n",
    "    counter = 0\n",
    "    for defect in defects[defects[\"class\"] == defect_type].iterrows():\n",
    "        x = defect[1][\"x\"]\n",
    "        if x > min and x < max:\n",
    "            counter += 1\n",
    "    return counter\n",
    "\n",
    "# problem.Add(count_defects(environnment, 0, \"a\") <= 4)\n",
    "# problem.Add(count_defects(environnment, 0, \"b\") <= 2)\n",
    "# problem.Add(count_defects(environnment, 0, \"c\") <= 3)\n",
    "# problem.Add(count_defects(environnment, 1, \"a\") <= 5)\n",
    "# problem.Add(count_defects(environnment, 1, \"b\") <= 4)\n",
    "# problem.Add(count_defects(environnment, 1, \"c\") <= 4)\n",
    "# problem.Add(count_defects(environnment, 2, \"a\") <= 1)\n",
    "# problem.Add(count_defects(environnment, 2, \"b\") <= 2)\n",
    "# problem.Add(count_defects(environnment, 2, \"c\") <= 1)\n",
    "# problem.Add(count_defects(environnment, 3, \"a\") <= 2)\n",
    "# problem.Add(count_defects(environnment, 3, \"b\") <= 3)\n",
    "# problem.Add(count_defects(environnment, 3, \"c\") <= 2)\n"
   ]
  },
  {
   "cell_type": "code",
   "execution_count": 68,
   "metadata": {},
   "outputs": [],
   "source": [
    "#for each biscuit, check if the number of defect is lower than the maximum autorised\n",
    "defect_table = {1 : {\"a\":4, \"b\":2, \"c\":3}, 2 : {\"a\":5, \"b\":4, \"c\":4}, 3 : {\"a\":1, \"b\":2, \"c\":1}, 4 : {\"a\":2, \"b\":3, \"c\":2}}\n",
    "len_table = {1 : 3, 2 : 7, 3 : 1, 4 : 4}\n",
    "def count_defects_indiv( biscuit_type):\n",
    "    for i in range(500):\n",
    "        \"\"\"for each biscuit\"\"\"\n",
    "        for let in [\"a\", \"b\", \"c\"]:\n",
    "            \"\"\"for each defect\"\"\"\n",
    "            defect = defect_table[biscuit_type][let]\n",
    "            try : \n",
    "                # problem.Add(discrete_count_defects(let, i, i+len_table[biscuit_type]) <= defect).OnlyEnforceIf(environnment[i][biscuit_type])\n",
    "                problem.AddImplication(environnment[i][biscuit_type], discrete_count_defects(let, i, i+len_table[biscuit_type]) <= defect)\n",
    "                \n",
    "            except : \n",
    "                # problem.Add(discrete_count_defects(let, i, 500) <= defect).OnlyEnforceIf(environnment[i][biscuit_type])\n",
    "                problem.AddImplication(environnment[i][biscuit_type], discrete_count_defects(let, i, 500) <= defect)\n",
    "\n",
    "for j in range(1,5):\n",
    "    count_defects_indiv(j)\n"
   ]
  },
  {
   "cell_type": "code",
   "execution_count": 69,
   "metadata": {},
   "outputs": [],
   "source": [
    "# what we want to maximize\n",
    "# goal : have the best value\n",
    "\n",
    "def value(env):\n",
    "    value = 0\n",
    "    for i in range(500):\n",
    "            value += 6*env[i][1] + 12*env[i][2] + 1*env[i][3] + 8*env[i][4]\n",
    "    return value\n",
    "\n",
    "problem.Maximize((value(environnment)))\n"
   ]
  },
  {
   "cell_type": "code",
   "execution_count": null,
   "metadata": {},
   "outputs": [],
   "source": []
  },
  {
   "cell_type": "code",
   "execution_count": null,
   "metadata": {},
   "outputs": [],
   "source": []
  },
  {
   "cell_type": "code",
   "execution_count": 70,
   "metadata": {},
   "outputs": [
    {
     "name": "stdout",
     "output_type": "stream",
     "text": [
      "optimal solution found\n"
     ]
    }
   ],
   "source": [
    "# solve the problem\n",
    "solver = cp_model.CpSolver()\n",
    "status = solver.Solve(problem)\n",
    "if status == cp_model.OPTIMAL:\n",
    "    print(\"optimal solution found\")"
   ]
  },
  {
   "cell_type": "code",
   "execution_count": 71,
   "metadata": {},
   "outputs": [
    {
     "name": "stdout",
     "output_type": "stream",
     "text": [
      "782.0\n"
     ]
    }
   ],
   "source": [
    "# visualize the solution\n",
    "\n",
    "# print the maximum value\n",
    "print(solver.ObjectiveValue())"
   ]
  },
  {
   "cell_type": "code",
   "execution_count": 72,
   "metadata": {},
   "outputs": [
    {
     "name": "stdout",
     "output_type": "stream",
     "text": [
      "[[0, 1], [1, 0], [2, 0], [3, 0], [4, 4], [5, 0], [6, 0], [7, 0], [8, 0], [9, 1], [10, 0], [11, 0], [12, 0], [13, 4], [14, 0], [15, 0], [16, 0], [17, 0], [18, 2], [19, 0], [20, 0], [21, 0], [22, 0], [23, 0], [24, 0], [25, 0], [26, 4], [27, 0], [28, 0], [29, 0], [30, 0], [31, 4], [32, 0], [33, 0], [34, 0], [35, 0], [36, 4], [37, 0], [38, 0], [39, 0], [40, 0], [41, 4], [42, 0], [43, 0], [44, 0], [45, 0], [46, 4], [47, 0], [48, 0], [49, 0], [50, 0], [51, 4], [52, 0], [53, 0], [54, 0], [55, 0], [56, 1], [57, 0], [58, 0], [59, 0], [60, 4], [61, 0], [62, 0], [63, 0], [64, 0], [65, 4], [66, 0], [67, 0], [68, 0], [69, 0], [70, 4], [71, 0], [72, 0], [73, 0], [74, 0], [75, 1], [76, 0], [77, 0], [78, 0], [79, 4], [80, 0], [81, 0], [82, 0], [83, 0], [84, 4], [85, 0], [86, 0], [87, 0], [88, 0], [89, 4], [90, 0], [91, 0], [92, 0], [93, 0], [94, 1], [95, 0], [96, 0], [97, 0], [98, 1], [99, 0], [100, 0], [101, 0], [102, 1], [103, 0], [104, 0], [105, 0], [106, 1], [107, 0], [108, 0], [109, 0], [110, 1], [111, 0], [112, 0], [113, 0], [114, 1], [115, 0], [116, 0], [117, 0], [118, 2], [119, 0], [120, 0], [121, 0], [122, 0], [123, 0], [124, 0], [125, 0], [126, 1], [127, 0], [128, 0], [129, 0], [130, 4], [131, 0], [132, 0], [133, 0], [134, 0], [135, 4], [136, 0], [137, 0], [138, 0], [139, 0], [140, 1], [141, 0], [142, 0], [143, 0], [144, 1], [145, 0], [146, 0], [147, 0], [148, 4], [149, 0], [150, 0], [151, 0], [152, 0], [153, 4], [154, 0], [155, 0], [156, 0], [157, 0], [158, 4], [159, 0], [160, 0], [161, 0], [162, 0], [163, 1], [164, 0], [165, 0], [166, 0], [167, 1], [168, 0], [169, 0], [170, 0], [171, 1], [172, 0], [173, 0], [174, 0], [175, 4], [176, 0], [177, 0], [178, 0], [179, 0], [180, 4], [181, 0], [182, 0], [183, 0], [184, 0], [186, 1], [187, 0], [188, 0], [189, 0], [190, 4], [191, 0], [192, 0], [193, 0], [194, 0], [195, 4], [196, 0], [197, 0], [198, 0], [199, 0], [200, 1], [201, 0], [202, 0], [203, 0], [204, 1], [205, 0], [206, 0], [207, 0], [208, 4], [209, 0], [210, 0], [211, 0], [212, 0], [213, 4], [214, 0], [215, 0], [216, 0], [217, 0], [218, 4], [219, 0], [220, 0], [221, 0], [222, 0], [223, 4], [224, 0], [225, 0], [226, 0], [227, 0], [228, 4], [229, 0], [230, 0], [231, 0], [232, 0], [233, 4], [234, 0], [235, 0], [236, 0], [237, 0], [238, 4], [239, 0], [240, 0], [241, 0], [242, 0], [243, 4], [244, 0], [245, 0], [246, 0], [247, 0], [248, 1], [249, 0], [250, 0], [251, 0], [252, 1], [253, 0], [254, 0], [255, 0], [256, 4], [257, 0], [258, 0], [259, 0], [260, 0], [261, 4], [262, 0], [263, 0], [264, 0], [265, 0], [266, 4], [267, 0], [268, 0], [269, 0], [270, 0], [271, 4], [272, 0], [273, 0], [274, 0], [275, 0], [276, 1], [277, 0], [278, 0], [279, 0], [280, 4], [281, 0], [282, 0], [283, 0], [284, 0], [285, 4], [286, 0], [287, 0], [288, 0], [289, 0], [290, 4], [291, 0], [292, 0], [293, 0], [294, 0], [295, 4], [296, 0], [297, 0], [298, 0], [299, 0], [300, 4], [301, 0], [302, 0], [303, 0], [304, 0], [305, 4], [306, 0], [307, 0], [308, 0], [309, 0], [310, 1], [311, 0], [312, 0], [313, 0], [314, 4], [315, 0], [316, 0], [317, 0], [318, 0], [319, 4], [320, 0], [321, 0], [322, 0], [323, 0], [324, 4], [325, 0], [326, 0], [327, 0], [328, 0], [329, 1], [330, 0], [331, 0], [332, 0], [333, 4], [334, 0], [335, 0], [336, 0], [337, 0], [338, 2], [339, 0], [340, 0], [341, 0], [342, 0], [343, 0], [344, 0], [345, 0], [346, 4], [347, 0], [348, 0], [349, 0], [350, 0], [351, 4], [352, 0], [353, 0], [354, 0], [355, 0], [356, 4], [357, 0], [358, 0], [359, 0], [360, 0], [361, 4], [362, 0], [363, 0], [364, 0], [365, 0], [366, 1], [367, 0], [368, 0], [369, 0], [370, 1], [371, 0], [372, 0], [373, 0], [374, 1], [375, 0], [376, 0], [377, 0], [378, 4], [379, 0], [380, 0], [381, 0], [382, 0], [383, 4], [384, 0], [385, 0], [386, 0], [387, 0], [388, 4], [389, 0], [390, 0], [391, 0], [392, 0], [393, 4], [394, 0], [395, 0], [396, 0], [397, 0], [398, 4], [399, 0], [400, 0], [401, 0], [402, 0], [403, 1], [404, 0], [405, 0], [406, 0], [407, 4], [408, 0], [409, 0], [410, 0], [411, 0], [412, 4], [413, 0], [414, 0], [415, 0], [416, 0], [417, 4], [418, 0], [419, 0], [420, 0], [421, 0], [422, 4], [423, 0], [424, 0], [425, 0], [426, 0], [427, 4], [428, 0], [429, 0], [430, 0], [431, 0], [432, 1], [433, 0], [434, 0], [435, 0], [436, 1], [437, 0], [438, 0], [439, 0], [440, 4], [441, 0], [442, 0], [443, 0], [444, 0], [445, 1], [446, 0], [447, 0], [448, 0], [449, 4], [450, 0], [451, 0], [452, 0], [453, 0], [454, 4], [455, 0], [456, 0], [457, 0], [458, 0], [459, 4], [460, 0], [461, 0], [462, 0], [463, 0], [464, 4], [465, 0], [466, 0], [467, 0], [468, 0], [469, 4], [470, 0], [471, 0], [472, 0], [473, 0], [474, 4], [475, 0], [476, 0], [477, 0], [478, 0], [479, 1], [480, 0], [481, 0], [482, 0], [483, 1], [484, 0], [485, 0], [486, 0], [487, 1], [488, 0], [489, 0], [490, 0], [491, 4], [492, 0], [493, 0], [494, 0], [495, 0], [496, 1], [497, 0], [498, 0], [499, 0]]\n"
     ]
    }
   ],
   "source": [
    "# visualize the solution\n",
    "solution = []\n",
    "for i in range(500):\n",
    "    for j in range(5):\n",
    "        if solver.Value(environnment[i][j]) == 1:\n",
    "            solution.append([i, j])\n",
    "print(solution)"
   ]
  },
  {
   "cell_type": "code",
   "execution_count": 73,
   "metadata": {},
   "outputs": [
    {
     "name": "stdout",
     "output_type": "stream",
     "text": [
      "[35, 3, 0, 67]\n"
     ]
    }
   ],
   "source": [
    "# analyse the number of each biscuit in the roll\n",
    "biscuits = [0,0,0,0]\n",
    "for i in range(500):\n",
    "    for j in range(1,5):\n",
    "        if solver.Value(environnment[i][j]) == 1:\n",
    "            biscuits[j-1] += 1\n",
    "print(biscuits)"
   ]
  },
  {
   "cell_type": "code",
   "execution_count": 74,
   "metadata": {},
   "outputs": [
    {
     "data": {
      "text/html": [
       "<div>\n",
       "<style scoped>\n",
       "    .dataframe tbody tr th:only-of-type {\n",
       "        vertical-align: middle;\n",
       "    }\n",
       "\n",
       "    .dataframe tbody tr th {\n",
       "        vertical-align: top;\n",
       "    }\n",
       "\n",
       "    .dataframe thead th {\n",
       "        text-align: right;\n",
       "    }\n",
       "</style>\n",
       "<table border=\"1\" class=\"dataframe\">\n",
       "  <thead>\n",
       "    <tr style=\"text-align: right;\">\n",
       "      <th></th>\n",
       "      <th>x</th>\n",
       "      <th>biscuit_type</th>\n",
       "    </tr>\n",
       "  </thead>\n",
       "  <tbody>\n",
       "    <tr>\n",
       "      <th>0</th>\n",
       "      <td>0</td>\n",
       "      <td>1</td>\n",
       "    </tr>\n",
       "    <tr>\n",
       "      <th>1</th>\n",
       "      <td>1</td>\n",
       "      <td>0</td>\n",
       "    </tr>\n",
       "    <tr>\n",
       "      <th>2</th>\n",
       "      <td>2</td>\n",
       "      <td>0</td>\n",
       "    </tr>\n",
       "    <tr>\n",
       "      <th>3</th>\n",
       "      <td>3</td>\n",
       "      <td>0</td>\n",
       "    </tr>\n",
       "    <tr>\n",
       "      <th>4</th>\n",
       "      <td>4</td>\n",
       "      <td>4</td>\n",
       "    </tr>\n",
       "    <tr>\n",
       "      <th>...</th>\n",
       "      <td>...</td>\n",
       "      <td>...</td>\n",
       "    </tr>\n",
       "    <tr>\n",
       "      <th>494</th>\n",
       "      <td>495</td>\n",
       "      <td>0</td>\n",
       "    </tr>\n",
       "    <tr>\n",
       "      <th>495</th>\n",
       "      <td>496</td>\n",
       "      <td>1</td>\n",
       "    </tr>\n",
       "    <tr>\n",
       "      <th>496</th>\n",
       "      <td>497</td>\n",
       "      <td>0</td>\n",
       "    </tr>\n",
       "    <tr>\n",
       "      <th>497</th>\n",
       "      <td>498</td>\n",
       "      <td>0</td>\n",
       "    </tr>\n",
       "    <tr>\n",
       "      <th>498</th>\n",
       "      <td>499</td>\n",
       "      <td>0</td>\n",
       "    </tr>\n",
       "  </tbody>\n",
       "</table>\n",
       "<p>499 rows × 2 columns</p>\n",
       "</div>"
      ],
      "text/plain": [
       "       x  biscuit_type\n",
       "0      0             1\n",
       "1      1             0\n",
       "2      2             0\n",
       "3      3             0\n",
       "4      4             4\n",
       "..   ...           ...\n",
       "494  495             0\n",
       "495  496             1\n",
       "496  497             0\n",
       "497  498             0\n",
       "498  499             0\n",
       "\n",
       "[499 rows x 2 columns]"
      ]
     },
     "execution_count": 74,
     "metadata": {},
     "output_type": "execute_result"
    }
   ],
   "source": [
    "solution = pd.DataFrame(solution, columns = [\"x\", \"biscuit_type\"])\n",
    "solution"
   ]
  },
  {
   "cell_type": "code",
   "execution_count": 75,
   "metadata": {},
   "outputs": [
    {
     "name": "stdout",
     "output_type": "stream",
     "text": [
      "{1: {'a': 4, 'b': 2, 'c': 3}, 2: {'a': 4, 'b': 3, 'c': 3}, 3: {'a': 0, 'b': 0, 'c': 0}, 4: {'a': 2, 'b': 3, 'c': 2}}\n"
     ]
    }
   ],
   "source": [
    "# check if the deflect criteria are respected\n",
    "def defect_checker(possible_solution):\n",
    "    \"\"\"send the biggest defect for each biscuit and each type of defects\"\"\"\n",
    "    max_number_of_defects = {1 : {\"a\":0, \"b\":0, \"c\":0}, 2 : {\"a\":0, \"b\":0, \"c\":0}, 3 : {\"a\":0, \"b\":0, \"c\":0}, 4 : {\"a\":0, \"b\":0, \"c\":0}}\n",
    "    indice = possible_solution[\"x\"].tolist()\n",
    "    max_indice = max(indice)\n",
    "    for i in indice:\n",
    "        \"\"\"for each position\"\"\"\n",
    "        for type in range(1,5):\n",
    "            \"\"\"for each biscuit\"\"\"\n",
    "            if possible_solution[possible_solution[\"x\"] == i][\"biscuit_type\"].tolist()[0] == type:\n",
    "                try : \n",
    "                    a = discrete_count_defects(\"a\", i, i+len_table[type])\n",
    "                    b = discrete_count_defects(\"b\", i, i+len_table[type])\n",
    "                    c = discrete_count_defects(\"c\", i, i+len_table[type])\n",
    "                except :\n",
    "                    a = discrete_count_defects(\"a\", i, max_indice)\n",
    "                    b = discrete_count_defects(\"b\", i, max_indice)\n",
    "                    c = discrete_count_defects(\"c\", i, max_indice)\n",
    "                if a > max_number_of_defects[type][\"a\"]:\n",
    "                    max_number_of_defects[type][\"a\"] = a\n",
    "                if b > max_number_of_defects[type][\"b\"]:\n",
    "                    max_number_of_defects[type][\"b\"] = b\n",
    "                if c > max_number_of_defects[type][\"c\"]:\n",
    "                    max_number_of_defects[type][\"c\"] = c\n",
    "                if a > defect_table[type][\"a\"] or b > defect_table[type][\"b\"] or c > defect_table[type][\"c\"]:\n",
    "                    print(\"defect criteria not respected\")\n",
    "                    print(\"place :\",i)\n",
    "                    print(\"biscuit type :\", type)\n",
    "    return max_number_of_defects\n",
    "print(defect_checker(solution))"
   ]
  }
 ],
 "metadata": {
  "kernelspec": {
   "display_name": "Python 3",
   "language": "python",
   "name": "python3"
  },
  "language_info": {
   "codemirror_mode": {
    "name": "ipython",
    "version": 3
   },
   "file_extension": ".py",
   "mimetype": "text/x-python",
   "name": "python",
   "nbconvert_exporter": "python",
   "pygments_lexer": "ipython3",
   "version": "3.11.5"
  }
 },
 "nbformat": 4,
 "nbformat_minor": 2
}
