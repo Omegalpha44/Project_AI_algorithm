{
 "cells": [
  {
   "cell_type": "markdown",
   "metadata": {},
   "source": [
    "## Code for Ai algorithm project"
   ]
  },
  {
   "cell_type": "markdown",
   "metadata": {},
   "source": [
    "### Production optimization using OrTools"
   ]
  },
  {
   "cell_type": "markdown",
   "metadata": {},
   "source": [
    "#### 1. Problem description"
   ]
  },
  {
   "cell_type": "markdown",
   "metadata": {},
   "source": [
    "- Subject of the probem : to maximize the number of biscuits produced in the same dough.\n",
    "* constraints : \n",
    "    - the roll of dough has a fixed size\n",
    "    - the roll can have defects that partially usable. Their size is variable, as well as their number and position on the roll.\n",
    "    - each biscuit is not limited in number in the roll\n",
    "    - each biscuit has a specific size, value, and a maximum number of defects it can contain\n",
    "\n",
    "* solution criteria : \n",
    "    - be at integer positions, so no half biscuit\n",
    "    - no overlapping\n",
    "    - reduce the maximum number of defect in dough as much as possible\n",
    "    - do not exceed the maximum length of the roll\n",
    "    - maximize the number of biscuits produced, as well as the value of the biscuits produced\n",
    "\n",
    "* Benchmark : \n",
    "    - length = 500 units\n",
    "    - set of defects : a, b and c\n",
    "    - set of biscuits : \n",
    "        - biscuit 0 : len = 4, value = 6, max_defect = {a: 4, b: 2, c: 3}\n",
    "        - biscuit 1 : len = 8, value = 12, max_defect = {a: 5, b: 4, c: 4}\n",
    "        - biscuit 2 : len = 2, value = 1, max_defect = {a: 1, b: 2, c: 1}\n",
    "        - biscuit 3 : len = 5, value = 8, max_defect = {a: 2, b: 3, c: 2}"
   ]
  },
  {
   "cell_type": "code",
   "execution_count": 1,
   "metadata": {},
   "outputs": [],
   "source": [
    "import ortools"
   ]
  },
  {
   "cell_type": "code",
   "execution_count": null,
   "metadata": {},
   "outputs": [],
   "source": []
  }
 ],
 "metadata": {
  "kernelspec": {
   "display_name": "Python 3",
   "language": "python",
   "name": "python3"
  },
  "language_info": {
   "codemirror_mode": {
    "name": "ipython",
    "version": 3
   },
   "file_extension": ".py",
   "mimetype": "text/x-python",
   "name": "python",
   "nbconvert_exporter": "python",
   "pygments_lexer": "ipython3",
   "version": "3.11.5"
  }
 },
 "nbformat": 4,
 "nbformat_minor": 2
}
