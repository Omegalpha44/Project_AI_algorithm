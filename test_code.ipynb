def test_count_consecutive_defects():
    # Test case 1: No consecutive defects
    model = [0, 1, 0, 1, 0, 1]
    assert count_consecutive_defects(model) == 0

    # Test case 2: One pair of consecutive defects
    model = [0, 1, 1, 0, 1, 0]
    assert count_consecutive_defects(model) == 1

    # Test case 3: Multiple pairs of consecutive defects
    model = [0, 1, 1, 0, 1, 1, 0, 1, 0]
    assert count_consecutive_defects(model) == 2

    # Test case 4: No defects
    model = [0, 1, 0, 1, 0, 1]
    assert count_consecutive_defects(model) == 0

    # Test case 5: Empty model
    model = []
    assert count_consecutive_defects(model) == 0

    print("All test cases passed!")

test_count_consecutive_defects()